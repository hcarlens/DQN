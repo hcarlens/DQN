{
 "cells": [
  {
   "cell_type": "markdown",
   "metadata": {},
   "source": [
    "## PyTorch DQN"
   ]
  },
  {
   "cell_type": "code",
   "execution_count": 1,
   "metadata": {
    "colab": {},
    "colab_type": "code",
    "id": "K4i7oDMqKHRk"
   },
   "outputs": [
    {
     "data": {
      "text/html": [
       "<style>.container { width:80% !important; }</style>"
      ],
      "text/plain": [
       "<IPython.core.display.HTML object>"
      ]
     },
     "metadata": {},
     "output_type": "display_data"
    }
   ],
   "source": [
    "from dqn import QNetwork\n",
    "from dqn_agent import DQNAgent\n",
    "from agent_trainer import Trainer\n",
    "from memory_buffer import MemoryBuffer\n",
    "import matplotlib.pyplot as plt\n",
    "import gym\n",
    "\n",
    "# make Jupyter notebook appear wider\n",
    "from IPython.core.display import display, HTML\n",
    "display(HTML(\"<style>.container { width:80% !important; }</style>\"))"
   ]
  },
  {
   "cell_type": "code",
   "execution_count": 2,
   "metadata": {},
   "outputs": [
    {
     "name": "stdout",
     "output_type": "stream",
     "text": [
      "Trainer initialised\n",
      "Episode 0 finished after 38 timesteps. 100 ep running avg 37.0. Epsilon 1.\n",
      "Episode 10 finished after 18 timesteps. 100 ep running avg 20.0. Epsilon 0.9043820750088043.\n",
      "Episode 20 finished after 15 timesteps. 100 ep running avg 21.0. Epsilon 0.8179069375972307.\n",
      "Episode 30 finished after 21 timesteps. 100 ep running avg 19.0. Epsilon 0.7397003733882802.\n",
      "Episode 40 finished after 13 timesteps. 100 ep running avg 18.0. Epsilon 0.6689717585696803.\n",
      "Episode 50 finished after 14 timesteps. 100 ep running avg 17.0. Epsilon 0.6050060671375365.\n",
      "Episode 60 finished after 13 timesteps. 100 ep running avg 17.0. Epsilon 0.5471566423907612.\n",
      "Episode 70 finished after 10 timesteps. 100 ep running avg 16.0. Epsilon 0.49483865960020695.\n",
      "Episode 80 finished after 12 timesteps. 100 ep running avg 15.0. Epsilon 0.44752321376381066.\n",
      "Episode 90 finished after 11 timesteps. 100 ep running avg 15.0. Epsilon 0.4047319726783239.\n",
      "Episode 100 finished after 11 timesteps. 100 ep running avg 15.0. Epsilon 0.36603234127322926.\n",
      "Episode 110 finished after 26 timesteps. 100 ep running avg 14.0. Epsilon 0.33103308832101386.\n",
      "Episode 120 finished after 12 timesteps. 100 ep running avg 14.0. Epsilon 0.29938039131233124.\n",
      "Episode 130 finished after 12 timesteps. 100 ep running avg 13.0. Epsilon 0.270754259511994.\n",
      "Episode 140 finished after 11 timesteps. 100 ep running avg 13.0. Epsilon 0.24486529903492946.\n",
      "Episode 150 finished after 24 timesteps. 100 ep running avg 13.0. Epsilon 0.22145178723886094.\n",
      "Episode 160 finished after 18 timesteps. 100 ep running avg 13.0. Epsilon 0.20027702685748935.\n",
      "Episode 170 finished after 24 timesteps. 100 ep running avg 14.0. Epsilon 0.18112695312597027.\n",
      "Episode 180 finished after 10 timesteps. 100 ep running avg 15.0. Epsilon 0.16380796970808745.\n",
      "Episode 190 finished after 11 timesteps. 100 ep running avg 15.0. Epsilon 0.1481449915475795.\n",
      "Episode 200 finished after 31 timesteps. 100 ep running avg 16.0. Epsilon 0.13397967485796175.\n",
      "Episode 210 finished after 27 timesteps. 100 ep running avg 16.0. Epsilon 0.1211688163570484.\n",
      "Episode 220 finished after 18 timesteps. 100 ep running avg 17.0. Epsilon 0.10958290556334822.\n",
      "Episode 230 finished after 15 timesteps. 100 ep running avg 18.0. Epsilon 0.09910481551887473.\n",
      "Episode 240 finished after 20 timesteps. 100 ep running avg 20.0. Epsilon 0.08962861870232469.\n",
      "Episode 250 finished after 30 timesteps. 100 ep running avg 21.0. Epsilon 0.08105851616218133.\n",
      "Episode 260 finished after 19 timesteps. 100 ep running avg 21.0. Epsilon 0.07330786904388827.\n",
      "Episode 270 finished after 32 timesteps. 100 ep running avg 22.0. Epsilon 0.06629832272038537.\n",
      "Episode 280 finished after 24 timesteps. 100 ep running avg 22.0. Epsilon 0.05995901467146548.\n",
      "Episode 290 finished after 32 timesteps. 100 ep running avg 24.0. Epsilon 0.054225858104063294.\n",
      "Episode 300 finished after 31 timesteps. 100 ep running avg 25.0. Epsilon 0.04904089407128576.\n",
      "Episode 310 finished after 29 timesteps. 100 ep running avg 26.0. Epsilon 0.04435170554047638.\n",
      "Episode 320 finished after 44 timesteps. 100 ep running avg 28.0. Epsilon 0.04011088748687551.\n",
      "Episode 330 finished after 33 timesteps. 100 ep running avg 29.0. Epsilon 0.036275567655825146.\n",
      "Episode 340 finished after 37 timesteps. 100 ep running avg 31.0. Epsilon 0.03280697314869741.\n",
      "Episode 350 finished after 46 timesteps. 100 ep running avg 33.0. Epsilon 0.029670038450977095.\n",
      "Episode 360 finished after 114 timesteps. 100 ep running avg 38.0. Epsilon 0.026833050939885677.\n",
      "Episode 370 finished after 148 timesteps. 100 ep running avg 48.0. Epsilon 0.024267330287830756.\n",
      "Episode 380 finished after 158 timesteps. 100 ep running avg 61.0. Epsilon 0.02194693852063239.\n",
      "Episode 390 finished after 200 timesteps. 100 ep running avg 75.0. Epsilon 0.01984841779938018.\n",
      "Episode 400 finished after 152 timesteps. 100 ep running avg 90.0. Epsilon 0.017950553275045134.\n",
      "Episode 410 finished after 174 timesteps. 100 ep running avg 103.0. Epsilon 0.01623415861844141.\n",
      "Episode 420 finished after 196 timesteps. 100 ep running avg 116.0. Epsilon 0.014681882057368112.\n",
      "Episode 430 finished after 200 timesteps. 100 ep running avg 131.0. Epsilon 0.013278030960077106.\n",
      "Episode 440 finished after 200 timesteps. 100 ep running avg 147.0. Epsilon 0.01200841319170568.\n",
      "Episode 450 finished after 166 timesteps. 100 ep running avg 161.0. Epsilon 0.010860193639877886.\n",
      "Episode 460 finished after 192 timesteps. 100 ep running avg 171.0. Epsilon 0.01.\n",
      "Episode 470 finished after 199 timesteps. 100 ep running avg 177.0. Epsilon 0.01.\n",
      "Episode 480 finished after 186 timesteps. 100 ep running avg 176.0. Epsilon 0.01.\n",
      "Episode 490 finished after 200 timesteps. 100 ep running avg 178.0. Epsilon 0.01.\n"
     ]
    }
   ],
   "source": [
    "env = gym.make('CartPole-v0')\n",
    "\n",
    "\n",
    "def build_model(learning_rate=0.00025):\n",
    "    # define Q-network\n",
    "    # 4 inputs (one for each scalar observable) +1 to represent the action\n",
    "    # todo: change to 4 inputs; 5 outputs to require fewer forward passes\n",
    "    return QNetwork(5, 128, learning_rate)\n",
    "\n",
    "dqn_agent = DQNAgent(network_generator=build_model, discount_rate=0.99)\n",
    "\n",
    "trainer = Trainer(\n",
    "    env=env, \n",
    "    agent=dqn_agent, \n",
    "    memory_buffer=MemoryBuffer(buffer_length=50000), \n",
    "    epsilon=1, \n",
    "    obs_normalisation=[0.686056, 0.792005, 0.075029, 0.414541]\n",
    ")\n",
    "\n",
    "trainer.run(num_episodes=500)"
   ]
  },
  {
   "cell_type": "code",
   "execution_count": 4,
   "metadata": {},
   "outputs": [],
   "source": [
    "import matplotlib.pyplot as plt"
   ]
  },
  {
   "cell_type": "code",
   "execution_count": 7,
   "metadata": {},
   "outputs": [
    {
     "data": {
      "text/plain": [
       "(0, 500)"
      ]
     },
     "execution_count": 7,
     "metadata": {},
     "output_type": "execute_result"
    },
    {
     "data": {
      "image/png": "[encoded data removed]",
      "text/plain": [
       "<Figure size 432x288 with 1 Axes>"
      ]
     },
     "metadata": {
      "needs_background": "light"
     },
     "output_type": "display_data"
    }
   ],
   "source": [
    "%matplotlib inline\n",
    "fig, ax = plt.subplots()\n",
    "plt.plot(trainer.episode_lengths,label='episode length')\n",
    "ax.set_xlabel('Episode')\n",
    "ax.set_ylabel('Episode timesteps')\n",
    "ax.set_title(f'Double DQN; batch size {trainer.batch_size}')\n",
    "ax.set_ylim(0, trainer.max_num_steps)\n",
    "ax.set_xlim(0, len(trainer.episode_lengths))"
   ]
  },
  {
   "cell_type": "code",
   "execution_count": 12,
   "metadata": {},
   "outputs": [
    {
     "name": "stdout",
     "output_type": "stream",
     "text": [
      "Episode 0 finished after 63 timesteps. 100 ep running avg 16.0. Epsilon 0.20027702685748935.\n",
      "Episode 10 finished after 11 timesteps. 100 ep running avg 15.0. Epsilon 0.18112695312597027.\n",
      "Episode 20 finished after 9 timesteps. 100 ep running avg 15.0. Epsilon 0.16380796970808745.\n",
      " "
     ]
    }
   ],
   "source": [
    "%prun trainer.run(30)"
   ]
  }
 ],
 "metadata": {
  "colab": {
   "include_colab_link": true,
   "name": "Simple DQN on Cartpole",
   "provenance": [],
   "version": "0.3.2"
  },
  "kernelspec": {
   "display_name": "Python 3",
   "language": "python",
   "name": "python3"
  },
  "language_info": {
   "codemirror_mode": {
    "name": "ipython",
    "version": 3
   },
   "file_extension": ".py",
   "mimetype": "text/x-python",
   "name": "python",
   "nbconvert_exporter": "python",
   "pygments_lexer": "ipython3",
   "version": "3.6.8"
  }
 },
 "nbformat": 4,
 "nbformat_minor": 1
}

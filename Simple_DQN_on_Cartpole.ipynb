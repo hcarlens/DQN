{
 "cells": [
  {
   "cell_type": "markdown",
   "metadata": {
    "colab_type": "text",
    "id": "view-in-github"
   },
   "source": [
    "<a href=\"https://colab.research.google.com/github/hcarlens/DQN/blob/master/Simple_DQN_on_Cartpole.ipynb\" target=\"_parent\"><img src=\"https://colab.research.google.com/assets/colab-badge.svg\" alt=\"Open In Colab\"/></a>"
   ]
  },
  {
   "cell_type": "code",
   "execution_count": 3,
   "metadata": {
    "colab": {},
    "colab_type": "code",
    "id": "K4i7oDMqKHRk"
   },
   "outputs": [],
   "source": [
    "# import the necessary packages\n",
    "import numpy as np\n",
    "import pandas as pd\n",
    "import gym\n",
    "import random\n",
    "import tensorflow as tf\n",
    "from tensorflow import keras\n",
    "import matplotlib.pyplot as plt\n",
    "from collections import deque\n",
    "%matplotlib notebook"
   ]
  },
  {
   "cell_type": "code",
   "execution_count": 4,
   "metadata": {
    "colab": {
     "base_uri": "https://localhost:8080/",
     "height": 51
    },
    "colab_type": "code",
    "id": "_62qgD4yKHRt",
    "outputId": "8795f805-7a1f-4877-d996-2c2687a1a060"
   },
   "outputs": [],
   "source": [
    "# set hyperparameters (mostly taken from DQN paper)\n",
    "num_episodes = 50\n",
    "max_num_steps = 200\n",
    "start_epsilon = 1\n",
    "end_epsilon = 0.01\n",
    "epsilon_decay_rate = 0.99\n",
    "discount_rate = 0.99\n",
    "batch_size = 200\n",
    "optimizer_learning_rate = 0.00025\n",
    "buffer_length = 50000\n",
    "target_update_steps = 1000\n",
    "\n",
    "# observed standard deviations on an earlier training run\n",
    "stddevs = [0.686056, 0.792005, 0.075029, 0.414541]"
   ]
  },
  {
   "cell_type": "code",
   "execution_count": 5,
   "metadata": {},
   "outputs": [
    {
     "data": {
      "text/html": [
       "<style>.container { width:100% !important; }</style>"
      ],
      "text/plain": [
       "<IPython.core.display.HTML object>"
      ]
     },
     "metadata": {},
     "output_type": "display_data"
    }
   ],
   "source": [
    "from IPython.core.display import display, HTML\n",
    "display(HTML(\"<style>.container { width:100% !important; }</style>\"))"
   ]
  },
  {
   "cell_type": "code",
   "execution_count": 6,
   "metadata": {
    "colab": {},
    "colab_type": "code",
    "id": "J0zdUYYsKHR2"
   },
   "outputs": [],
   "source": [
    "# define Q-network (two layers with 32 neurons each)\n",
    "# 4 inputs (one for each scalar observable) +1 to represent the action\n",
    "# todo: change to 4 inputs; 5 outputs to require fewer forward passes\n",
    "def build_model():\n",
    "  model = keras.Sequential([\n",
    "    keras.layers.Dense(32, activation=tf.nn.relu,\n",
    "                       input_shape=(5,)),\n",
    "    keras.layers.Dense(32, activation=tf.nn.relu),\n",
    "    keras.layers.Dense(1)\n",
    "  ])\n",
    "\n",
    "  optimizer = tf.train.RMSPropOptimizer(learning_rate=optimizer_learning_rate)\n",
    "  model.compile(loss='mse', optimizer=optimizer)\n",
    "  return model"
   ]
  },
  {
   "cell_type": "code",
   "execution_count": 51,
   "metadata": {
    "colab": {},
    "colab_type": "code",
    "id": "IMQMkZQRNlrg"
   },
   "outputs": [],
   "source": [
    "# define a memory buffer\n",
    "# todo: add other types of sampling (e.g. PER, HER)\n",
    "class MemoryBuffer:\n",
    "  def __init__(self):\n",
    "    self.memories = deque(maxlen=buffer_length)\n",
    "\n",
    "  def add_memory(self, memory):\n",
    "    self.memories.append(memory)\n",
    "    \n",
    "  def sample_minibatch(self, batch_size):\n",
    "    return random.sample(self.memories, min(len(self.memories), batch_size))"
   ]
  },
  {
   "cell_type": "code",
   "execution_count": 57,
   "metadata": {},
   "outputs": [],
   "source": [
    "def parse_minibatch(minibatch, target_network):\n",
    "    minibatch = pd.DataFrame(memory_buffer.sample_minibatch(32), \n",
    "                columns=['observation', 'action', 'reward', 'next_state', 'done'])\n",
    "\n",
    "    # get max q values for the next state\n",
    "    # todo: clean this up! \n",
    "    # Can probably do this just with tensors rather than going via a pandas dataframe\n",
    "    inputs = pd.DataFrame(minibatch.next_state.tolist())\n",
    "    inputs['zeros'] = 0\n",
    "    inputs['ones'] = 1\n",
    "    next_value_0 = target_network.predict(inputs[[0,1,2,3,'zeros']])\n",
    "    next_value_1 = target_network.predict(inputs[[0,1,2,3,'ones']])\n",
    "\n",
    "    # calculate target q alues\n",
    "    minibatch['next_state_max_q'] = np.maximum(next_value_0, next_value_1)\n",
    "    minibatch.loc[minibatch.done, 'next_state_max_q'] = 0\n",
    "    minibatch['target_q_value'] = minibatch.reward + discount_rate * minibatch.next_state_max_q\n",
    "\n",
    "    nn_inputs = pd.DataFrame(minibatch.observation.tolist())\n",
    "    nn_inputs['action'] = minibatch.action\n",
    "\n",
    "    return nn_inputs.values, minibatch.target_q_value.tolist()"
   ]
  },
  {
   "cell_type": "code",
   "execution_count": 60,
   "metadata": {},
   "outputs": [],
   "source": [
    "#todo: move some of these properties into a separate agent class\n",
    "\n",
    "class Trainer:\n",
    "    def __init__(self, env, q_network, target_network, memory_buffer, epsilon, obs_normalisation=[1,1,1,1], logdir='/logs'):\n",
    "        self.q_network = q_network\n",
    "        self.target_network = target_network\n",
    "        self.memory_buffer = memory_buffer\n",
    "        self.env = env\n",
    "        self.total_steps = 0\n",
    "        self.episode_lengths = []\n",
    "        self.epsilon = epsilon\n",
    "        \n",
    "        self.obs_normalisation = obs_normalisation\n",
    "        print('Trainer initialised')\n",
    "        \n",
    "    def run(self, num_episodes):\n",
    "        # run through episodes\n",
    "        for e in range(num_episodes):\n",
    "            observation = self.env.reset()\n",
    "            observation = np.divide(observation, self.obs_normalisation)\n",
    "\n",
    "            for t in range(max_num_steps):\n",
    "                # set the target network weights to be the same as the q-network ones every so often\n",
    "                if self.total_steps % target_update_steps == 0:\n",
    "                    self.target_network.set_weights(q_network.get_weights())\n",
    "\n",
    "                # with probability epsilon, choose a random action\n",
    "                # otherwise use Q-network to pick action \n",
    "                if random.uniform(0, 1) < self.epsilon:\n",
    "                    action = self.env.action_space.sample()\n",
    "                else:\n",
    "                    input = np.array([np.append(observation,0), np.append(observation,1)])\n",
    "                    action = np.argmax(self.q_network.predict(input))\n",
    "\n",
    "                next_observation, reward, done, info = env.step(action)\n",
    "\n",
    "                # add memory to buffer\n",
    "                memory = (observation, action, reward, next_observation, done)\n",
    "                self.memory_buffer.add_memory(memory)\n",
    "\n",
    "                # sample a minibatch of experiences and update q-network\n",
    "                minibatch = memory_buffer.sample_minibatch(batch_size)\n",
    "                minibatch_inputs, minibatch_q_values = parse_minibatch(minibatch, self.target_network)\n",
    "                self.q_network.fit(np.array(minibatch_inputs), np.array(minibatch_q_values), verbose=0)\n",
    "\n",
    "                observation = next_observation\n",
    "                self.total_steps += 1\n",
    "                if done or t == max_num_steps - 1:\n",
    "                    break \n",
    "\n",
    "            self.episode_lengths.append(t)\n",
    "\n",
    "            if e % 10 == 0:\n",
    "                print(\"Episode {} finished after {} timesteps. 100 ep running avg {}. Epsilon {}. Memory buffer length {}.\".format(e, t+1, np.floor(np.average(self.episode_lengths[-100:])), self.epsilon, len(self.memory_buffer.memories)))\n",
    "\n",
    "            # decrease epsilon value\n",
    "            self.epsilon = max(self.epsilon * epsilon_decay_rate, end_epsilon)"
   ]
  },
  {
   "cell_type": "code",
   "execution_count": 61,
   "metadata": {
    "colab": {
     "base_uri": "https://localhost:8080/",
     "height": 17017
    },
    "colab_type": "code",
    "id": "QhgdbJ_TKHR_",
    "outputId": "c35077e5-ada8-4f3b-906c-fd998ee3e8ad",
    "scrolled": false
   },
   "outputs": [
    {
     "name": "stdout",
     "output_type": "stream",
     "text": [
      "Trainer initialised\n"
     ]
    },
    {
     "ename": "ValueError",
     "evalue": "Error when checking input: expected dense_132_input to have shape (5,) but got array with shape (1,)",
     "output_type": "error",
     "traceback": [
      "\u001b[1;31m-----------------------------------------------\u001b[0m",
      "\u001b[1;31mValueError\u001b[0m    Traceback (most recent call last)",
      "\u001b[1;32m<ipython-input-61-4410bf1f3e31>\u001b[0m in \u001b[0;36m<module>\u001b[1;34m\u001b[0m\n\u001b[0;32m      8\u001b[0m \u001b[1;33m\u001b[0m\u001b[0m\n\u001b[0;32m      9\u001b[0m \u001b[0mtrainer\u001b[0m \u001b[1;33m=\u001b[0m \u001b[0mTrainer\u001b[0m\u001b[1;33m(\u001b[0m\u001b[0menv\u001b[0m\u001b[1;33m=\u001b[0m\u001b[0menv\u001b[0m\u001b[1;33m,\u001b[0m \u001b[0mq_network\u001b[0m\u001b[1;33m=\u001b[0m\u001b[0mq_network\u001b[0m\u001b[1;33m,\u001b[0m \u001b[0mtarget_network\u001b[0m\u001b[1;33m=\u001b[0m\u001b[0mtarget_network\u001b[0m\u001b[1;33m,\u001b[0m \u001b[0mmemory_buffer\u001b[0m\u001b[1;33m=\u001b[0m\u001b[0mmemory_buffer\u001b[0m\u001b[1;33m,\u001b[0m \u001b[0mepsilon\u001b[0m\u001b[1;33m=\u001b[0m\u001b[0mstart_epsilon\u001b[0m\u001b[1;33m,\u001b[0m \u001b[0mobs_normalisation\u001b[0m\u001b[1;33m=\u001b[0m\u001b[0mstddevs\u001b[0m\u001b[1;33m)\u001b[0m\u001b[1;33m\u001b[0m\u001b[0m\n\u001b[1;32m---> 10\u001b[1;33m \u001b[0mtrainer\u001b[0m\u001b[1;33m.\u001b[0m\u001b[0mrun\u001b[0m\u001b[1;33m(\u001b[0m\u001b[0mnum_episodes\u001b[0m\u001b[1;33m)\u001b[0m\u001b[1;33m\u001b[0m\u001b[0m\n\u001b[0m",
      "\u001b[1;32m<ipython-input-60-8442fb2d71d7>\u001b[0m in \u001b[0;36mrun\u001b[1;34m(self, num_episodes)\u001b[0m\n\u001b[0;32m     42\u001b[0m                 \u001b[0mminibatch\u001b[0m \u001b[1;33m=\u001b[0m \u001b[0mmemory_buffer\u001b[0m\u001b[1;33m.\u001b[0m\u001b[0msample_minibatch\u001b[0m\u001b[1;33m(\u001b[0m\u001b[0mbatch_size\u001b[0m\u001b[1;33m)\u001b[0m\u001b[1;33m\u001b[0m\u001b[0m\n\u001b[0;32m     43\u001b[0m                 \u001b[0mminibatch_inputs\u001b[0m\u001b[1;33m,\u001b[0m \u001b[0mminibatch_q_values\u001b[0m \u001b[1;33m=\u001b[0m \u001b[0mparse_minibatch\u001b[0m\u001b[1;33m(\u001b[0m\u001b[0mminibatch\u001b[0m\u001b[1;33m,\u001b[0m \u001b[0mself\u001b[0m\u001b[1;33m.\u001b[0m\u001b[0mtarget_network\u001b[0m\u001b[1;33m)\u001b[0m\u001b[1;33m\u001b[0m\u001b[0m\n\u001b[1;32m---> 44\u001b[1;33m                 \u001b[0mself\u001b[0m\u001b[1;33m.\u001b[0m\u001b[0mq_network\u001b[0m\u001b[1;33m.\u001b[0m\u001b[0mfit\u001b[0m\u001b[1;33m(\u001b[0m\u001b[0mnp\u001b[0m\u001b[1;33m.\u001b[0m\u001b[0marray\u001b[0m\u001b[1;33m(\u001b[0m\u001b[0mminibatch_inputs\u001b[0m\u001b[1;33m)\u001b[0m\u001b[1;33m,\u001b[0m \u001b[0mnp\u001b[0m\u001b[1;33m.\u001b[0m\u001b[0marray\u001b[0m\u001b[1;33m(\u001b[0m\u001b[0mminibatch_q_values\u001b[0m\u001b[1;33m)\u001b[0m\u001b[1;33m,\u001b[0m \u001b[0mverbose\u001b[0m\u001b[1;33m=\u001b[0m\u001b[1;36m0\u001b[0m\u001b[1;33m)\u001b[0m\u001b[1;33m\u001b[0m\u001b[0m\n\u001b[0m\u001b[0;32m     45\u001b[0m \u001b[1;33m\u001b[0m\u001b[0m\n\u001b[0;32m     46\u001b[0m                 \u001b[0mobservation\u001b[0m \u001b[1;33m=\u001b[0m \u001b[0mnext_observation\u001b[0m\u001b[1;33m\u001b[0m\u001b[0m\n",
      "\u001b[1;32mc:\\users\\harald\\documents\\pommerman\\~\\pomenv\\lib\\site-packages\\tensorflow\\python\\keras\\engine\\training.py\u001b[0m in \u001b[0;36mfit\u001b[1;34m(self, x, y, batch_size, epochs, verbose, callbacks, validation_split, validation_data, shuffle, class_weight, sample_weight, initial_epoch, steps_per_epoch, validation_steps, **kwargs)\u001b[0m\n\u001b[0;32m   1507\u001b[0m         \u001b[0msteps_name\u001b[0m\u001b[1;33m=\u001b[0m\u001b[1;34m'steps_per_epoch'\u001b[0m\u001b[1;33m,\u001b[0m\u001b[1;33m\u001b[0m\u001b[0m\n\u001b[0;32m   1508\u001b[0m         \u001b[0msteps\u001b[0m\u001b[1;33m=\u001b[0m\u001b[0msteps_per_epoch\u001b[0m\u001b[1;33m,\u001b[0m\u001b[1;33m\u001b[0m\u001b[0m\n\u001b[1;32m-> 1509\u001b[1;33m         validation_split=validation_split)\n\u001b[0m\u001b[0;32m   1510\u001b[0m \u001b[1;33m\u001b[0m\u001b[0m\n\u001b[0;32m   1511\u001b[0m     \u001b[1;31m# Prepare validation data.\u001b[0m\u001b[1;33m\u001b[0m\u001b[1;33m\u001b[0m\u001b[0m\n",
      "\u001b[1;32mc:\\users\\harald\\documents\\pommerman\\~\\pomenv\\lib\\site-packages\\tensorflow\\python\\keras\\engine\\training.py\u001b[0m in \u001b[0;36m_standardize_user_data\u001b[1;34m(self, x, y, sample_weight, class_weight, batch_size, check_steps, steps_name, steps, validation_split)\u001b[0m\n\u001b[0;32m    991\u001b[0m       \u001b[0mx\u001b[0m\u001b[1;33m,\u001b[0m \u001b[0my\u001b[0m \u001b[1;33m=\u001b[0m \u001b[0mnext_element\u001b[0m\u001b[1;33m\u001b[0m\u001b[0m\n\u001b[0;32m    992\u001b[0m     x, y, sample_weights = self._standardize_weights(x, y, sample_weight,\n\u001b[1;32m--> 993\u001b[1;33m                                                      class_weight, batch_size)\n\u001b[0m\u001b[0;32m    994\u001b[0m     \u001b[1;32mreturn\u001b[0m \u001b[0mx\u001b[0m\u001b[1;33m,\u001b[0m \u001b[0my\u001b[0m\u001b[1;33m,\u001b[0m \u001b[0msample_weights\u001b[0m\u001b[1;33m\u001b[0m\u001b[0m\n\u001b[0;32m    995\u001b[0m \u001b[1;33m\u001b[0m\u001b[0m\n",
      "\u001b[1;32mc:\\users\\harald\\documents\\pommerman\\~\\pomenv\\lib\\site-packages\\tensorflow\\python\\keras\\engine\\training.py\u001b[0m in \u001b[0;36m_standardize_weights\u001b[1;34m(self, x, y, sample_weight, class_weight, batch_size)\u001b[0m\n\u001b[0;32m   1110\u001b[0m         \u001b[0mfeed_input_shapes\u001b[0m\u001b[1;33m,\u001b[0m\u001b[1;33m\u001b[0m\u001b[0m\n\u001b[0;32m   1111\u001b[0m         \u001b[0mcheck_batch_axis\u001b[0m\u001b[1;33m=\u001b[0m\u001b[1;32mFalse\u001b[0m\u001b[1;33m,\u001b[0m  \u001b[1;31m# Don't enforce the batch size.\u001b[0m\u001b[1;33m\u001b[0m\u001b[0m\n\u001b[1;32m-> 1112\u001b[1;33m         exception_prefix='input')\n\u001b[0m\u001b[0;32m   1113\u001b[0m \u001b[1;33m\u001b[0m\u001b[0m\n\u001b[0;32m   1114\u001b[0m     \u001b[1;32mif\u001b[0m \u001b[0my\u001b[0m \u001b[1;32mis\u001b[0m \u001b[1;32mnot\u001b[0m \u001b[1;32mNone\u001b[0m\u001b[1;33m:\u001b[0m\u001b[1;33m\u001b[0m\u001b[0m\n",
      "\u001b[1;32mc:\\users\\harald\\documents\\pommerman\\~\\pomenv\\lib\\site-packages\\tensorflow\\python\\keras\\engine\\training_utils.py\u001b[0m in \u001b[0;36mstandardize_input_data\u001b[1;34m(data, names, shapes, check_batch_axis, exception_prefix)\u001b[0m\n\u001b[0;32m    323\u001b[0m                 \u001b[1;34m'Error when checking '\u001b[0m \u001b[1;33m+\u001b[0m \u001b[0mexception_prefix\u001b[0m \u001b[1;33m+\u001b[0m \u001b[1;34m': expected '\u001b[0m \u001b[1;33m+\u001b[0m\u001b[1;33m\u001b[0m\u001b[0m\n\u001b[0;32m    324\u001b[0m                 \u001b[0mnames\u001b[0m\u001b[1;33m[\u001b[0m\u001b[0mi\u001b[0m\u001b[1;33m]\u001b[0m \u001b[1;33m+\u001b[0m \u001b[1;34m' to have shape '\u001b[0m \u001b[1;33m+\u001b[0m \u001b[0mstr\u001b[0m\u001b[1;33m(\u001b[0m\u001b[0mshape\u001b[0m\u001b[1;33m)\u001b[0m \u001b[1;33m+\u001b[0m\u001b[1;33m\u001b[0m\u001b[0m\n\u001b[1;32m--> 325\u001b[1;33m                 ' but got array with shape ' + str(data_shape))\n\u001b[0m\u001b[0;32m    326\u001b[0m   \u001b[1;32mreturn\u001b[0m \u001b[0mdata\u001b[0m\u001b[1;33m\u001b[0m\u001b[0m\n\u001b[0;32m    327\u001b[0m \u001b[1;33m\u001b[0m\u001b[0m\n",
      "\u001b[1;31mValueError\u001b[0m: Error when checking input: expected dense_132_input to have shape (5,) but got array with shape (1,)"
     ]
    }
   ],
   "source": [
    "# todo: add tensorboard logging\n",
    "# initialise environment, required objects, and some variables\n",
    "env = gym.make('CartPole-v0')\n",
    "\n",
    "q_network = build_model()\n",
    "target_network = build_model()\n",
    "memory_buffer = MemoryBuffer()\n",
    "\n",
    "trainer = Trainer(env=env, q_network=q_network, target_network=target_network, memory_buffer=memory_buffer, epsilon=start_epsilon, obs_normalisation=stddevs)\n",
    "trainer.run(num_episodes)"
   ]
  },
  {
   "cell_type": "code",
   "execution_count": 23,
   "metadata": {
    "colab": {
     "base_uri": "https://localhost:8080/",
     "height": 282
    },
    "colab_type": "code",
    "id": "wRdNiHgEKHSG",
    "outputId": "bfcb1d95-fcb1-4478-a0f1-dc7232ae72ce"
   },
   "outputs": [
    {
     "data": {
      "text/plain": [
       "Text(0.5, 1.0, 'Double DQN; two 32-neuron layers; 0.00025 lr')"
      ]
     },
     "execution_count": 23,
     "metadata": {},
     "output_type": "execute_result"
    },
    {
     "data": {
      "image/png": "[encoded data removed]",
      "text/plain": [
       "<Figure size 432x288 with 1 Axes>"
      ]
     },
     "metadata": {
      "needs_background": "light"
     },
     "output_type": "display_data"
    }
   ],
   "source": [
    "%matplotlib inline\n",
    "fig, ax = plt.subplots()\n",
    "plt.plot(trainer.episode_lengths,label='episode length')\n",
    "ax.set_xlabel('Episode')\n",
    "ax.set_ylabel('Episode timesteps')\n",
    "ax.set_title('Double DQN; two 32-neuron layers; batch size 200; 0.00025 lr')"
   ]
  }
 ],
 "metadata": {
  "colab": {
   "include_colab_link": true,
   "name": "Simple DQN on Cartpole",
   "provenance": [],
   "version": "0.3.2"
  },
  "kernelspec": {
   "display_name": "Python 3",
   "language": "python",
   "name": "python3"
  },
  "language_info": {
   "codemirror_mode": {
    "name": "ipython",
    "version": 3
   },
   "file_extension": ".py",
   "mimetype": "text/x-python",
   "name": "python",
   "nbconvert_exporter": "python",
   "pygments_lexer": "ipython3",
   "version": "3.6.6"
  }
 },
 "nbformat": 4,
 "nbformat_minor": 1
}

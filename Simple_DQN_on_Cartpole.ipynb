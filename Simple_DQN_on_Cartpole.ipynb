{
 "cells": [
  {
   "cell_type": "markdown",
   "metadata": {
    "colab_type": "text",
    "id": "view-in-github"
   },
   "source": [
    "<a href=\"https://colab.research.google.com/github/hcarlens/DQN/blob/master/Simple_DQN_on_Cartpole.ipynb\" target=\"_parent\"><img src=\"https://colab.research.google.com/assets/colab-badge.svg\" alt=\"Open In Colab\"/></a>"
   ]
  },
  {
   "cell_type": "code",
   "execution_count": 3,
   "metadata": {
    "colab": {},
    "colab_type": "code",
    "id": "K4i7oDMqKHRk"
   },
   "outputs": [],
   "source": [
    "# import the necessary packages\n",
    "import numpy as np\n",
    "import gym\n",
    "import random\n",
    "import tensorflow as tf\n",
    "from tensorflow import keras\n",
    "import matplotlib.pyplot as plt\n",
    "from collections import deque\n",
    "%matplotlib inline"
   ]
  },
  {
   "cell_type": "code",
   "execution_count": 4,
   "metadata": {
    "colab": {
     "base_uri": "https://localhost:8080/",
     "height": 51
    },
    "colab_type": "code",
    "id": "_62qgD4yKHRt",
    "outputId": "8795f805-7a1f-4877-d996-2c2687a1a060"
   },
   "outputs": [],
   "source": [
    "# set hyperparameters (mostly taken from DQN paper)\n",
    "num_episodes = 30\n",
    "max_num_steps = 200\n",
    "start_epsilon = 1\n",
    "end_epsilon = 0.01\n",
    "epsilon_decay_rate = 0.99\n",
    "discount_rate = 0.99\n",
    "batch_size = 32\n",
    "optimizer_learning_rate = 0.00025\n",
    "buffer_length = 50000\n",
    "target_update_steps = 1000"
   ]
  },
  {
   "cell_type": "code",
   "execution_count": 31,
   "metadata": {},
   "outputs": [
    {
     "data": {
      "text/html": [
       "<style>.container { width:100% !important; }</style>"
      ],
      "text/plain": [
       "<IPython.core.display.HTML object>"
      ]
     },
     "metadata": {},
     "output_type": "display_data"
    }
   ],
   "source": [
    "from IPython.core.display import display, HTML\n",
    "display(HTML(\"<style>.container { width:100% !important; }</style>\"))"
   ]
  },
  {
   "cell_type": "code",
   "execution_count": 5,
   "metadata": {
    "colab": {},
    "colab_type": "code",
    "id": "J0zdUYYsKHR2"
   },
   "outputs": [],
   "source": [
    "# define Q-network (two layers with 32 neurons each)\n",
    "# 4 inputs (one for each scalar observable) +1 to represent the action\n",
    "# todo: try other network architectures\n",
    "# todo: change to 4 inputs; 5 outputs to require fewer forward passes\n",
    "def build_model():\n",
    "  model = keras.Sequential([\n",
    "    keras.layers.Dense(4, activation=tf.nn.relu,\n",
    "                       input_shape=(5,)),\n",
    "    keras.layers.Dense(4, activation=tf.nn.relu),\n",
    "    keras.layers.Dense(1)\n",
    "  ])\n",
    "\n",
    "  optimizer = tf.train.RMSPropOptimizer(learning_rate=optimizer_learning_rate)\n",
    "  model.compile(loss='mse', optimizer=optimizer)\n",
    "  return model"
   ]
  },
  {
   "cell_type": "code",
   "execution_count": 14,
   "metadata": {
    "colab": {},
    "colab_type": "code",
    "id": "IMQMkZQRNlrg"
   },
   "outputs": [],
   "source": [
    "# define a memory buffer\n",
    "class MemoryBuffer:\n",
    "  def __init__(self):\n",
    "    self.experience_buffer = deque(maxlen=buffer_length)\n",
    "\n",
    "  def add_memory(self, memory):\n",
    "    self.experience_buffer.append(memory)\n",
    "    \n",
    "  def sample_minibatch(self, batch_size):\n",
    "    return random.sample(self.experience_buffer, min(len(self.experience_buffer), batch_size))"
   ]
  },
  {
   "cell_type": "code",
   "execution_count": 18,
   "metadata": {},
   "outputs": [],
   "source": [
    "def parse_minibatch(minibatch, target_network):\n",
    "    input_cache = []\n",
    "    label_cache = []\n",
    "    \n",
    "    # todo: make this more efficient by turning the sampled mini batch into one tensor\n",
    "    # parse all the relevant states in our replay buffer\n",
    "    for state, action, reward, next_state, done in minibatch:\n",
    "        if done: \n",
    "            target_q_value = reward\n",
    "        else:         \n",
    "            max_q_next_state = max(target_network.predict(\n",
    "                np.array([np.append(next_state,0), np.append(next_state,1)])))[0]\n",
    "            \n",
    "            target_q_value = reward + discount_rate * max_q_next_state\n",
    "\n",
    "        input_cache.append(np.append(state, action))\n",
    "        label_cache.append(np.array(target_q_value))\n",
    "    return input_cache, label_cache"
   ]
  },
  {
   "cell_type": "code",
   "execution_count": 26,
   "metadata": {},
   "outputs": [],
   "source": [
    "class Trainer:\n",
    "    def __init__(self, env, q_network, target_network, memory_buffer, epsilon):\n",
    "        self.q_network = q_network\n",
    "        self.target_network = target_network\n",
    "        self.memory_buffer = memory_buffer\n",
    "        self.env = env\n",
    "        self.total_steps = 0\n",
    "        self.episode_lengths = []\n",
    "        self.epsilon = epsilon\n",
    "        print('Trainer initialised')\n",
    "        \n",
    "    def run(self, num_episodes):\n",
    "        # run through episodes\n",
    "        for e in range(num_episodes):\n",
    "            observation = self.env.reset()\n",
    "\n",
    "            for t in range(max_num_steps):\n",
    "                input = np.array([np.append(observation,0), np.append(observation,1)])\n",
    "                # todo: review distribution of inputs, and consider normalising\n",
    "\n",
    "                # set the target network to be the q-network every so often\n",
    "                if self.total_steps % target_update_steps == 0:\n",
    "                    self.target_network.set_weights(q_network.get_weights())\n",
    "                    print(self.total_steps, ' steps taken. Target network weights updated. ')\n",
    "\n",
    "                # with probability epsilon, choose a random action\n",
    "                # otherwise use Q-network to pick action \n",
    "                if random.uniform(0, 1) < self.epsilon:\n",
    "                    action = self.env.action_space.sample()\n",
    "                else:\n",
    "                    action = np.argmax(self.q_network.predict(input))\n",
    "\n",
    "                next_observation, reward, done, info = env.step(action)\n",
    "\n",
    "                # add memory to buffer\n",
    "                memory = (observation, action, reward, next_observation, done)\n",
    "                self.memory_buffer.add_memory(memory)\n",
    "\n",
    "                # sample a minibatch of experiences and update q-network\n",
    "                minibatch = memory_buffer.sample_minibatch(batch_size)\n",
    "                minibatch_inputs, minibatch_q_values = parse_minibatch(minibatch, self.target_network)\n",
    "                self.q_network.fit(np.array(minibatch_inputs), np.array(minibatch_q_values), verbose=0)\n",
    "\n",
    "                observation = next_observation\n",
    "                self.total_steps += 1\n",
    "                if done or t == max_num_steps - 1:\n",
    "                    break \n",
    "\n",
    "            self.episode_lengths.append(t)\n",
    "            if e % 10 == 0:\n",
    "                print(\"Episode {} finished after {} timesteps. 100 ep running avg {}. Epsilon {}. Memory buffer length {}.\".format(e, t+1, np.floor(np.average(self.episode_lengths[-100:])), self.epsilon, len(self.memory_buffer.experience_buffer)))\n",
    "\n",
    "            # decrease epsilon value\n",
    "            self.epsilon = max(self.epsilon * epsilon_decay_rate, end_epsilon)"
   ]
  },
  {
   "cell_type": "code",
   "execution_count": 27,
   "metadata": {
    "colab": {
     "base_uri": "https://localhost:8080/",
     "height": 17017
    },
    "colab_type": "code",
    "id": "QhgdbJ_TKHR_",
    "outputId": "c35077e5-ada8-4f3b-906c-fd998ee3e8ad",
    "scrolled": false
   },
   "outputs": [
    {
     "name": "stdout",
     "output_type": "stream",
     "text": [
      "Trainer initialised\n",
      "0  steps taken. Target network weights updated. \n",
      "Episode 0 finished after 37 timesteps. 100 ep running avg 36.0. Epsilon 1. Memory buffer length 37.\n",
      "Episode 10 finished after 24 timesteps. 100 ep running avg 25.0. Epsilon 0.9043820750088043. Memory buffer length 293.\n"
     ]
    }
   ],
   "source": [
    "# todo: add tensorboard logging\n",
    "# initialise environment, required objects, and some variables\n",
    "env = gym.make('CartPole-v0')\n",
    "\n",
    "q_network = build_model()\n",
    "target_network = build_model()\n",
    "memory_buffer = MemoryBuffer()\n",
    "\n",
    "trainer = Trainer(env=env, q_network=q_network, target_network=target_network, memory_buffer=memory_buffer, epsilon=start_epsilon)\n",
    "trainer.run(20)"
   ]
  },
  {
   "cell_type": "code",
   "execution_count": 17,
   "metadata": {
    "colab": {
     "base_uri": "https://localhost:8080/",
     "height": 282
    },
    "colab_type": "code",
    "id": "wRdNiHgEKHSG",
    "outputId": "bfcb1d95-fcb1-4478-a0f1-dc7232ae72ce"
   },
   "outputs": [
    {
     "data": {
      "text/plain": [
       "Text(0.5, 1.0, 'Double DQN; two 16-neuron layers; 0.0025 lr')"
      ]
     },
     "execution_count": 17,
     "metadata": {},
     "output_type": "execute_result"
    },
    {
     "data": {
      "image/png": "[encoded data removed]",
      "text/plain": [
       "<Figure size 432x288 with 1 Axes>"
      ]
     },
     "metadata": {
      "needs_background": "light"
     },
     "output_type": "display_data"
    }
   ],
   "source": [
    "%matplotlib inline\n",
    "fig, ax = plt.subplots()\n",
    "plt.plot(episode_lengths,label='episode length')\n",
    "ax.set_xlabel('Episode')\n",
    "ax.set_ylabel('Episode timesteps')\n",
    "ax.set_title('Double DQN; two 16-neuron layers; 0.0025 lr')"
   ]
  }
 ],
 "metadata": {
  "colab": {
   "include_colab_link": true,
   "name": "Simple DQN on Cartpole",
   "provenance": [],
   "version": "0.3.2"
  },
  "kernelspec": {
   "display_name": "Python 3",
   "language": "python",
   "name": "python3"
  },
  "language_info": {
   "codemirror_mode": {
    "name": "ipython",
    "version": 3
   },
   "file_extension": ".py",
   "mimetype": "text/x-python",
   "name": "python",
   "nbconvert_exporter": "python",
   "pygments_lexer": "ipython3",
   "version": "3.6.6"
  }
 },
 "nbformat": 4,
 "nbformat_minor": 1
}

{
 "cells": [
  {
   "cell_type": "code",
   "execution_count": 1,
   "metadata": {
    "colab": {},
    "colab_type": "code",
    "id": "K4i7oDMqKHRk"
   },
   "outputs": [],
   "source": [
    "# import the necessary packages\n",
    "import numpy as np\n",
    "import pandas as pd\n",
    "import gym\n",
    "import random\n",
    "import tensorflow as tf\n",
    "from tensorflow import keras\n",
    "import matplotlib.pyplot as plt\n",
    "from collections import deque\n",
    "%matplotlib notebook"
   ]
  },
  {
   "cell_type": "code",
   "execution_count": 2,
   "metadata": {},
   "outputs": [],
   "source": [
    "from memory_buffer import MemoryBuffer\n",
    "from dqn_agent import DQNAgent"
   ]
  },
  {
   "cell_type": "code",
   "execution_count": 3,
   "metadata": {
    "colab": {
     "base_uri": "https://localhost:8080/",
     "height": 51
    },
    "colab_type": "code",
    "id": "_62qgD4yKHRt",
    "outputId": "8795f805-7a1f-4877-d996-2c2687a1a060"
   },
   "outputs": [],
   "source": [
    "# set hyperparameters (mostly taken from DQN paper)\n",
    "num_episodes = 500\n",
    "max_num_steps = 200\n",
    "start_epsilon = 1\n",
    "end_epsilon = 0.01\n",
    "epsilon_decay_rate = 0.99\n",
    "discount_rate = 0.99\n",
    "batch_size = 32\n",
    "optimizer_learning_rate = 0.00025\n",
    "buffer_length = 50000\n",
    "target_update_steps = 1000\n",
    "timestep_to_start_learning = 1000\n",
    "\n",
    "# observed standard deviations on an earlier training run\n",
    "stddevs = [0.686056, 0.792005, 0.075029, 0.414541]"
   ]
  },
  {
   "cell_type": "code",
   "execution_count": 4,
   "metadata": {},
   "outputs": [
    {
     "data": {
      "text/html": [
       "<style>.container { width:100% !important; }</style>"
      ],
      "text/plain": [
       "<IPython.core.display.HTML object>"
      ]
     },
     "metadata": {},
     "output_type": "display_data"
    }
   ],
   "source": [
    "# make Jupyter notebook appear wider\n",
    "from IPython.core.display import display, HTML\n",
    "display(HTML(\"<style>.container { width:100% !important; }</style>\"))"
   ]
  },
  {
   "cell_type": "code",
   "execution_count": 5,
   "metadata": {
    "colab": {},
    "colab_type": "code",
    "id": "J0zdUYYsKHR2"
   },
   "outputs": [],
   "source": [
    "# define Q-network (two layers with 32 neurons each)\n",
    "# 4 inputs (one for each scalar observable) +1 to represent the action\n",
    "# todo: change to 4 inputs; 5 outputs to require fewer forward passes\n",
    "def build_model():\n",
    "  model = keras.Sequential([\n",
    "    keras.layers.Dense(128, activation=tf.nn.relu,\n",
    "                       input_shape=(5,)),\n",
    "    keras.layers.Dense(1)\n",
    "  ])\n",
    "\n",
    "  optimizer = tf.train.AdamOptimizer(learning_rate=optimizer_learning_rate)\n",
    "  model.compile(loss='mse', optimizer=optimizer)\n",
    "  return model"
   ]
  },
  {
   "cell_type": "code",
   "execution_count": 6,
   "metadata": {},
   "outputs": [],
   "source": [
    "# todo: remove references to global variables\n",
    "# todo: add deterministic mode\n",
    "class Trainer:\n",
    "    def __init__(self, env, agent, memory_buffer, epsilon, obs_normalisation=[1,1,1,1], logdir='/logs'):\n",
    "        self.env = env\n",
    "        self.total_steps = 0\n",
    "        self.episode_lengths = []\n",
    "        self.epsilon = epsilon\n",
    "        self.agent = agent\n",
    "        self.memory_buffer = memory_buffer\n",
    "        \n",
    "        self.obs_normalisation = obs_normalisation\n",
    "        print('Trainer initialised')\n",
    "        \n",
    "    def run(self, num_episodes):\n",
    "        # run through episodes\n",
    "        for e in range(num_episodes):\n",
    "            observation = self.env.reset()\n",
    "            observation = np.divide(observation, self.obs_normalisation)\n",
    "\n",
    "            for t in range(max_num_steps):\n",
    "                # set the target network weights to be the same as the q-network ones every so often\n",
    "                if self.total_steps % target_update_steps == 0:\n",
    "                    self.agent.update_target_network()\n",
    "                                \n",
    "                # with probability epsilon, choose a random action\n",
    "                # otherwise use Q-network to pick action \n",
    "                if random.uniform(0, 1) < self.epsilon:\n",
    "                    action = self.env.action_space.sample()\n",
    "                else:\n",
    "                    action = self.agent.act(observation)\n",
    "\n",
    "                next_observation, reward, done, info = env.step(action)\n",
    "\n",
    "                # add memory to buffer\n",
    "                memory = (observation, action, reward, next_observation, done)\n",
    "                self.memory_buffer.add_memory(memory)\n",
    "                \n",
    "                if self.total_steps > timestep_to_start_learning:\n",
    "                    # sample a minibatch of experiences and update q-network\n",
    "                    minibatch = self.memory_buffer.sample_minibatch(batch_size)\n",
    "                    self.agent.fit_batch(minibatch)\n",
    "\n",
    "                observation = next_observation\n",
    "                self.total_steps += 1\n",
    "                if done or t == max_num_steps - 1:\n",
    "                    break \n",
    "\n",
    "            self.episode_lengths.append(t)\n",
    "\n",
    "            if e % 10 == 0:\n",
    "                print(\"Episode {} finished after {} timesteps. 100 ep running avg {}. Epsilon {}.\".format(e, t+1, np.floor(np.average(self.episode_lengths[-100:])), self.epsilon))\n",
    "\n",
    "            # decrease epsilon value\n",
    "            self.epsilon = max(self.epsilon * epsilon_decay_rate, end_epsilon)"
   ]
  },
  {
   "cell_type": "code",
   "execution_count": 7,
   "metadata": {},
   "outputs": [
    {
     "name": "stderr",
     "output_type": "stream",
     "text": [
      "WARNING: Logging before flag parsing goes to stderr.\n",
      "W0624 20:35:47.752443 12060 deprecation.py:506] From c:\\source\\envs\\rlenv\\lib\\site-packages\\tensorflow\\python\\ops\\init_ops.py:1251: calling VarianceScaling.__init__ (from tensorflow.python.ops.init_ops) with dtype is deprecated and will be removed in a future version.\n",
      "Instructions for updating:\n",
      "Call initializer instance with the dtype argument instead of passing it to the constructor\n"
     ]
    },
    {
     "name": "stdout",
     "output_type": "stream",
     "text": [
      "Trainer initialised\n",
      "Episode 0 finished after 13 timesteps. 100 ep running avg 12.0. Epsilon 1.\n",
      "Episode 10 finished after 16 timesteps. 100 ep running avg 21.0. Epsilon 0.9043820750088043.\n",
      "Episode 20 finished after 9 timesteps. 100 ep running avg 18.0. Epsilon 0.8179069375972307.\n",
      "Episode 30 finished after 19 timesteps. 100 ep running avg 23.0. Epsilon 0.7397003733882802.\n",
      "Episode 40 finished after 15 timesteps. 100 ep running avg 21.0. Epsilon 0.6689717585696803.\n",
      "Episode 50 finished after 10 timesteps. 100 ep running avg 20.0. Epsilon 0.6050060671375365.\n"
     ]
    },
    {
     "ename": "KeyboardInterrupt",
     "evalue": "",
     "output_type": "error",
     "traceback": [
      "\u001b[1;31m---------------------------------------------------------------------------\u001b[0m",
      "\u001b[1;31mKeyboardInterrupt\u001b[0m                         Traceback (most recent call last)",
      "\u001b[1;32m<ipython-input-7-4dfd2b6779a5>\u001b[0m in \u001b[0;36m<module>\u001b[1;34m\u001b[0m\n\u001b[0;32m      8\u001b[0m \u001b[1;33m\u001b[0m\u001b[0m\n\u001b[0;32m      9\u001b[0m \u001b[0mtrainer\u001b[0m \u001b[1;33m=\u001b[0m \u001b[0mTrainer\u001b[0m\u001b[1;33m(\u001b[0m\u001b[0menv\u001b[0m\u001b[1;33m=\u001b[0m\u001b[0menv\u001b[0m\u001b[1;33m,\u001b[0m \u001b[0magent\u001b[0m\u001b[1;33m=\u001b[0m\u001b[0mdqn_agent\u001b[0m\u001b[1;33m,\u001b[0m \u001b[0mmemory_buffer\u001b[0m\u001b[1;33m=\u001b[0m\u001b[0mMemoryBuffer\u001b[0m\u001b[1;33m(\u001b[0m\u001b[0mbuffer_length\u001b[0m\u001b[1;33m)\u001b[0m\u001b[1;33m,\u001b[0m \u001b[0mepsilon\u001b[0m\u001b[1;33m=\u001b[0m\u001b[0mstart_epsilon\u001b[0m\u001b[1;33m,\u001b[0m \u001b[0mobs_normalisation\u001b[0m\u001b[1;33m=\u001b[0m\u001b[0mstddevs\u001b[0m\u001b[1;33m)\u001b[0m\u001b[1;33m\u001b[0m\u001b[1;33m\u001b[0m\u001b[0m\n\u001b[1;32m---> 10\u001b[1;33m \u001b[0mtrainer\u001b[0m\u001b[1;33m.\u001b[0m\u001b[0mrun\u001b[0m\u001b[1;33m(\u001b[0m\u001b[0mnum_episodes\u001b[0m\u001b[1;33m)\u001b[0m\u001b[1;33m\u001b[0m\u001b[1;33m\u001b[0m\u001b[0m\n\u001b[0m",
      "\u001b[1;32m<ipython-input-6-92847d2116c5>\u001b[0m in \u001b[0;36mrun\u001b[1;34m(self, num_episodes)\u001b[0m\n\u001b[0;32m     40\u001b[0m                     \u001b[1;31m# sample a minibatch of experiences and update q-network\u001b[0m\u001b[1;33m\u001b[0m\u001b[1;33m\u001b[0m\u001b[1;33m\u001b[0m\u001b[0m\n\u001b[0;32m     41\u001b[0m                     \u001b[0mminibatch\u001b[0m \u001b[1;33m=\u001b[0m \u001b[0mself\u001b[0m\u001b[1;33m.\u001b[0m\u001b[0mmemory_buffer\u001b[0m\u001b[1;33m.\u001b[0m\u001b[0msample_minibatch\u001b[0m\u001b[1;33m(\u001b[0m\u001b[0mbatch_size\u001b[0m\u001b[1;33m)\u001b[0m\u001b[1;33m\u001b[0m\u001b[1;33m\u001b[0m\u001b[0m\n\u001b[1;32m---> 42\u001b[1;33m                     \u001b[0mself\u001b[0m\u001b[1;33m.\u001b[0m\u001b[0magent\u001b[0m\u001b[1;33m.\u001b[0m\u001b[0mfit_batch\u001b[0m\u001b[1;33m(\u001b[0m\u001b[0mminibatch\u001b[0m\u001b[1;33m)\u001b[0m\u001b[1;33m\u001b[0m\u001b[1;33m\u001b[0m\u001b[0m\n\u001b[0m\u001b[0;32m     43\u001b[0m \u001b[1;33m\u001b[0m\u001b[0m\n\u001b[0;32m     44\u001b[0m                 \u001b[0mobservation\u001b[0m \u001b[1;33m=\u001b[0m \u001b[0mnext_observation\u001b[0m\u001b[1;33m\u001b[0m\u001b[1;33m\u001b[0m\u001b[0m\n",
      "\u001b[1;32mC:\\source\\repos\\DQN\\dqn_agent.py\u001b[0m in \u001b[0;36mfit_batch\u001b[1;34m(self, minibatch)\u001b[0m\n\u001b[0;32m     20\u001b[0m         \u001b[0minputs\u001b[0m\u001b[1;33m[\u001b[0m\u001b[1;34m'zeros'\u001b[0m\u001b[1;33m]\u001b[0m \u001b[1;33m=\u001b[0m \u001b[1;36m0\u001b[0m\u001b[1;33m\u001b[0m\u001b[1;33m\u001b[0m\u001b[0m\n\u001b[0;32m     21\u001b[0m         \u001b[0minputs\u001b[0m\u001b[1;33m[\u001b[0m\u001b[1;34m'ones'\u001b[0m\u001b[1;33m]\u001b[0m \u001b[1;33m=\u001b[0m \u001b[1;36m1\u001b[0m\u001b[1;33m\u001b[0m\u001b[1;33m\u001b[0m\u001b[0m\n\u001b[1;32m---> 22\u001b[1;33m         \u001b[0mnext_value_0\u001b[0m \u001b[1;33m=\u001b[0m \u001b[0mself\u001b[0m\u001b[1;33m.\u001b[0m\u001b[0mtarget_network\u001b[0m\u001b[1;33m.\u001b[0m\u001b[0mpredict\u001b[0m\u001b[1;33m(\u001b[0m\u001b[0minputs\u001b[0m\u001b[1;33m[\u001b[0m\u001b[1;33m[\u001b[0m\u001b[1;36m0\u001b[0m\u001b[1;33m,\u001b[0m\u001b[1;36m1\u001b[0m\u001b[1;33m,\u001b[0m\u001b[1;36m2\u001b[0m\u001b[1;33m,\u001b[0m\u001b[1;36m3\u001b[0m\u001b[1;33m,\u001b[0m\u001b[1;34m'zeros'\u001b[0m\u001b[1;33m]\u001b[0m\u001b[1;33m]\u001b[0m\u001b[1;33m)\u001b[0m\u001b[1;33m\u001b[0m\u001b[1;33m\u001b[0m\u001b[0m\n\u001b[0m\u001b[0;32m     23\u001b[0m         \u001b[0mnext_value_1\u001b[0m \u001b[1;33m=\u001b[0m \u001b[0mself\u001b[0m\u001b[1;33m.\u001b[0m\u001b[0mtarget_network\u001b[0m\u001b[1;33m.\u001b[0m\u001b[0mpredict\u001b[0m\u001b[1;33m(\u001b[0m\u001b[0minputs\u001b[0m\u001b[1;33m[\u001b[0m\u001b[1;33m[\u001b[0m\u001b[1;36m0\u001b[0m\u001b[1;33m,\u001b[0m\u001b[1;36m1\u001b[0m\u001b[1;33m,\u001b[0m\u001b[1;36m2\u001b[0m\u001b[1;33m,\u001b[0m\u001b[1;36m3\u001b[0m\u001b[1;33m,\u001b[0m\u001b[1;34m'ones'\u001b[0m\u001b[1;33m]\u001b[0m\u001b[1;33m]\u001b[0m\u001b[1;33m)\u001b[0m\u001b[1;33m\u001b[0m\u001b[1;33m\u001b[0m\u001b[0m\n\u001b[0;32m     24\u001b[0m \u001b[1;33m\u001b[0m\u001b[0m\n",
      "\u001b[1;32mc:\\source\\envs\\rlenv\\lib\\site-packages\\pandas\\core\\frame.py\u001b[0m in \u001b[0;36m__getitem__\u001b[1;34m(self, key)\u001b[0m\n\u001b[0;32m   2932\u001b[0m                 \u001b[0mkey\u001b[0m \u001b[1;33m=\u001b[0m \u001b[0mlist\u001b[0m\u001b[1;33m(\u001b[0m\u001b[0mkey\u001b[0m\u001b[1;33m)\u001b[0m\u001b[1;33m\u001b[0m\u001b[1;33m\u001b[0m\u001b[0m\n\u001b[0;32m   2933\u001b[0m             indexer = self.loc._convert_to_indexer(key, axis=1,\n\u001b[1;32m-> 2934\u001b[1;33m                                                    raise_missing=True)\n\u001b[0m\u001b[0;32m   2935\u001b[0m \u001b[1;33m\u001b[0m\u001b[0m\n\u001b[0;32m   2936\u001b[0m         \u001b[1;31m# take() does not accept boolean indexers\u001b[0m\u001b[1;33m\u001b[0m\u001b[1;33m\u001b[0m\u001b[1;33m\u001b[0m\u001b[0m\n",
      "\u001b[1;32mc:\\source\\envs\\rlenv\\lib\\site-packages\\pandas\\core\\indexing.py\u001b[0m in \u001b[0;36m_convert_to_indexer\u001b[1;34m(self, obj, axis, is_setter, raise_missing)\u001b[0m\n\u001b[0;32m   1352\u001b[0m                 kwargs = {'raise_missing': True if is_setter else\n\u001b[0;32m   1353\u001b[0m                           raise_missing}\n\u001b[1;32m-> 1354\u001b[1;33m                 \u001b[1;32mreturn\u001b[0m \u001b[0mself\u001b[0m\u001b[1;33m.\u001b[0m\u001b[0m_get_listlike_indexer\u001b[0m\u001b[1;33m(\u001b[0m\u001b[0mobj\u001b[0m\u001b[1;33m,\u001b[0m \u001b[0maxis\u001b[0m\u001b[1;33m,\u001b[0m \u001b[1;33m**\u001b[0m\u001b[0mkwargs\u001b[0m\u001b[1;33m)\u001b[0m\u001b[1;33m[\u001b[0m\u001b[1;36m1\u001b[0m\u001b[1;33m]\u001b[0m\u001b[1;33m\u001b[0m\u001b[1;33m\u001b[0m\u001b[0m\n\u001b[0m\u001b[0;32m   1355\u001b[0m         \u001b[1;32melse\u001b[0m\u001b[1;33m:\u001b[0m\u001b[1;33m\u001b[0m\u001b[1;33m\u001b[0m\u001b[0m\n\u001b[0;32m   1356\u001b[0m             \u001b[1;32mtry\u001b[0m\u001b[1;33m:\u001b[0m\u001b[1;33m\u001b[0m\u001b[1;33m\u001b[0m\u001b[0m\n",
      "\u001b[1;32mc:\\source\\envs\\rlenv\\lib\\site-packages\\pandas\\core\\indexing.py\u001b[0m in \u001b[0;36m_get_listlike_indexer\u001b[1;34m(self, key, axis, raise_missing)\u001b[0m\n\u001b[0;32m   1152\u001b[0m             \u001b[1;32mif\u001b[0m \u001b[0mlen\u001b[0m\u001b[1;33m(\u001b[0m\u001b[0max\u001b[0m\u001b[1;33m)\u001b[0m \u001b[1;32mor\u001b[0m \u001b[1;32mnot\u001b[0m \u001b[0mlen\u001b[0m\u001b[1;33m(\u001b[0m\u001b[0mkey\u001b[0m\u001b[1;33m)\u001b[0m\u001b[1;33m:\u001b[0m\u001b[1;33m\u001b[0m\u001b[1;33m\u001b[0m\u001b[0m\n\u001b[0;32m   1153\u001b[0m                 \u001b[0mkey\u001b[0m \u001b[1;33m=\u001b[0m \u001b[0mself\u001b[0m\u001b[1;33m.\u001b[0m\u001b[0m_convert_for_reindex\u001b[0m\u001b[1;33m(\u001b[0m\u001b[0mkey\u001b[0m\u001b[1;33m,\u001b[0m \u001b[0maxis\u001b[0m\u001b[1;33m)\u001b[0m\u001b[1;33m\u001b[0m\u001b[1;33m\u001b[0m\u001b[0m\n\u001b[1;32m-> 1154\u001b[1;33m             \u001b[0mindexer\u001b[0m \u001b[1;33m=\u001b[0m \u001b[0max\u001b[0m\u001b[1;33m.\u001b[0m\u001b[0mget_indexer_for\u001b[0m\u001b[1;33m(\u001b[0m\u001b[0mkey\u001b[0m\u001b[1;33m)\u001b[0m\u001b[1;33m\u001b[0m\u001b[1;33m\u001b[0m\u001b[0m\n\u001b[0m\u001b[0;32m   1155\u001b[0m             \u001b[0mkeyarr\u001b[0m \u001b[1;33m=\u001b[0m \u001b[0max\u001b[0m\u001b[1;33m.\u001b[0m\u001b[0mreindex\u001b[0m\u001b[1;33m(\u001b[0m\u001b[0mkeyarr\u001b[0m\u001b[1;33m)\u001b[0m\u001b[1;33m[\u001b[0m\u001b[1;36m0\u001b[0m\u001b[1;33m]\u001b[0m\u001b[1;33m\u001b[0m\u001b[1;33m\u001b[0m\u001b[0m\n\u001b[0;32m   1156\u001b[0m         \u001b[1;32melse\u001b[0m\u001b[1;33m:\u001b[0m\u001b[1;33m\u001b[0m\u001b[1;33m\u001b[0m\u001b[0m\n",
      "\u001b[1;32mc:\\source\\envs\\rlenv\\lib\\site-packages\\pandas\\core\\indexes\\base.py\u001b[0m in \u001b[0;36mget_indexer_for\u001b[1;34m(self, target, **kwargs)\u001b[0m\n\u001b[0;32m   4453\u001b[0m         \"\"\"\n\u001b[0;32m   4454\u001b[0m         \u001b[1;32mif\u001b[0m \u001b[0mself\u001b[0m\u001b[1;33m.\u001b[0m\u001b[0mis_unique\u001b[0m\u001b[1;33m:\u001b[0m\u001b[1;33m\u001b[0m\u001b[1;33m\u001b[0m\u001b[0m\n\u001b[1;32m-> 4455\u001b[1;33m             \u001b[1;32mreturn\u001b[0m \u001b[0mself\u001b[0m\u001b[1;33m.\u001b[0m\u001b[0mget_indexer\u001b[0m\u001b[1;33m(\u001b[0m\u001b[0mtarget\u001b[0m\u001b[1;33m,\u001b[0m \u001b[1;33m**\u001b[0m\u001b[0mkwargs\u001b[0m\u001b[1;33m)\u001b[0m\u001b[1;33m\u001b[0m\u001b[1;33m\u001b[0m\u001b[0m\n\u001b[0m\u001b[0;32m   4456\u001b[0m         \u001b[0mindexer\u001b[0m\u001b[1;33m,\u001b[0m \u001b[0m_\u001b[0m \u001b[1;33m=\u001b[0m \u001b[0mself\u001b[0m\u001b[1;33m.\u001b[0m\u001b[0mget_indexer_non_unique\u001b[0m\u001b[1;33m(\u001b[0m\u001b[0mtarget\u001b[0m\u001b[1;33m,\u001b[0m \u001b[1;33m**\u001b[0m\u001b[0mkwargs\u001b[0m\u001b[1;33m)\u001b[0m\u001b[1;33m\u001b[0m\u001b[1;33m\u001b[0m\u001b[0m\n\u001b[0;32m   4457\u001b[0m         \u001b[1;32mreturn\u001b[0m \u001b[0mindexer\u001b[0m\u001b[1;33m\u001b[0m\u001b[1;33m\u001b[0m\u001b[0m\n",
      "\u001b[1;32mc:\\source\\envs\\rlenv\\lib\\site-packages\\pandas\\core\\indexes\\base.py\u001b[0m in \u001b[0;36mget_indexer\u001b[1;34m(self, target, method, limit, tolerance)\u001b[0m\n\u001b[0;32m   2716\u001b[0m     \u001b[1;32mdef\u001b[0m \u001b[0mget_indexer\u001b[0m\u001b[1;33m(\u001b[0m\u001b[0mself\u001b[0m\u001b[1;33m,\u001b[0m \u001b[0mtarget\u001b[0m\u001b[1;33m,\u001b[0m \u001b[0mmethod\u001b[0m\u001b[1;33m=\u001b[0m\u001b[1;32mNone\u001b[0m\u001b[1;33m,\u001b[0m \u001b[0mlimit\u001b[0m\u001b[1;33m=\u001b[0m\u001b[1;32mNone\u001b[0m\u001b[1;33m,\u001b[0m \u001b[0mtolerance\u001b[0m\u001b[1;33m=\u001b[0m\u001b[1;32mNone\u001b[0m\u001b[1;33m)\u001b[0m\u001b[1;33m:\u001b[0m\u001b[1;33m\u001b[0m\u001b[1;33m\u001b[0m\u001b[0m\n\u001b[0;32m   2717\u001b[0m         \u001b[0mmethod\u001b[0m \u001b[1;33m=\u001b[0m \u001b[0mmissing\u001b[0m\u001b[1;33m.\u001b[0m\u001b[0mclean_reindex_fill_method\u001b[0m\u001b[1;33m(\u001b[0m\u001b[0mmethod\u001b[0m\u001b[1;33m)\u001b[0m\u001b[1;33m\u001b[0m\u001b[1;33m\u001b[0m\u001b[0m\n\u001b[1;32m-> 2718\u001b[1;33m         \u001b[0mtarget\u001b[0m \u001b[1;33m=\u001b[0m \u001b[0mensure_index\u001b[0m\u001b[1;33m(\u001b[0m\u001b[0mtarget\u001b[0m\u001b[1;33m)\u001b[0m\u001b[1;33m\u001b[0m\u001b[1;33m\u001b[0m\u001b[0m\n\u001b[0m\u001b[0;32m   2719\u001b[0m         \u001b[1;32mif\u001b[0m \u001b[0mtolerance\u001b[0m \u001b[1;32mis\u001b[0m \u001b[1;32mnot\u001b[0m \u001b[1;32mNone\u001b[0m\u001b[1;33m:\u001b[0m\u001b[1;33m\u001b[0m\u001b[1;33m\u001b[0m\u001b[0m\n\u001b[0;32m   2720\u001b[0m             \u001b[0mtolerance\u001b[0m \u001b[1;33m=\u001b[0m \u001b[0mself\u001b[0m\u001b[1;33m.\u001b[0m\u001b[0m_convert_tolerance\u001b[0m\u001b[1;33m(\u001b[0m\u001b[0mtolerance\u001b[0m\u001b[1;33m,\u001b[0m \u001b[0mtarget\u001b[0m\u001b[1;33m)\u001b[0m\u001b[1;33m\u001b[0m\u001b[1;33m\u001b[0m\u001b[0m\n",
      "\u001b[1;32mc:\\source\\envs\\rlenv\\lib\\site-packages\\pandas\\core\\indexes\\base.py\u001b[0m in \u001b[0;36mensure_index\u001b[1;34m(index_like, copy)\u001b[0m\n\u001b[0;32m   5362\u001b[0m             \u001b[0mindex_like\u001b[0m \u001b[1;33m=\u001b[0m \u001b[0mlist\u001b[0m\u001b[1;33m(\u001b[0m\u001b[0mindex_like\u001b[0m\u001b[1;33m)\u001b[0m\u001b[1;33m\u001b[0m\u001b[1;33m\u001b[0m\u001b[0m\n\u001b[0;32m   5363\u001b[0m \u001b[1;33m\u001b[0m\u001b[0m\n\u001b[1;32m-> 5364\u001b[1;33m         \u001b[0mconverted\u001b[0m\u001b[1;33m,\u001b[0m \u001b[0mall_arrays\u001b[0m \u001b[1;33m=\u001b[0m \u001b[0mlib\u001b[0m\u001b[1;33m.\u001b[0m\u001b[0mclean_index_list\u001b[0m\u001b[1;33m(\u001b[0m\u001b[0mindex_like\u001b[0m\u001b[1;33m)\u001b[0m\u001b[1;33m\u001b[0m\u001b[1;33m\u001b[0m\u001b[0m\n\u001b[0m\u001b[0;32m   5365\u001b[0m \u001b[1;33m\u001b[0m\u001b[0m\n\u001b[0;32m   5366\u001b[0m         \u001b[1;32mif\u001b[0m \u001b[0mlen\u001b[0m\u001b[1;33m(\u001b[0m\u001b[0mconverted\u001b[0m\u001b[1;33m)\u001b[0m \u001b[1;33m>\u001b[0m \u001b[1;36m0\u001b[0m \u001b[1;32mand\u001b[0m \u001b[0mall_arrays\u001b[0m\u001b[1;33m:\u001b[0m\u001b[1;33m\u001b[0m\u001b[1;33m\u001b[0m\u001b[0m\n",
      "\u001b[1;32mpandas\\_libs\\lib.pyx\u001b[0m in \u001b[0;36mpandas._libs.lib.clean_index_list\u001b[1;34m()\u001b[0m\n",
      "\u001b[1;32mpandas\\_libs\\lib.pyx\u001b[0m in \u001b[0;36mpandas._libs.lib.infer_dtype\u001b[1;34m()\u001b[0m\n",
      "\u001b[1;32m~\\AppData\\Local\\Programs\\Python\\Python36\\Lib\\importlib\\_bootstrap.py\u001b[0m in \u001b[0;36m_find_and_load\u001b[1;34m(name, import_)\u001b[0m\n",
      "\u001b[1;32m~\\AppData\\Local\\Programs\\Python\\Python36\\Lib\\importlib\\_bootstrap.py\u001b[0m in \u001b[0;36m_find_and_load_unlocked\u001b[1;34m(name, import_)\u001b[0m\n",
      "\u001b[1;32m~\\AppData\\Local\\Programs\\Python\\Python36\\Lib\\importlib\\_bootstrap.py\u001b[0m in \u001b[0;36m_find_spec\u001b[1;34m(name, path, target)\u001b[0m\n",
      "\u001b[1;32m~\\AppData\\Local\\Programs\\Python\\Python36\\Lib\\importlib\\_bootstrap_external.py\u001b[0m in \u001b[0;36mfind_spec\u001b[1;34m(cls, fullname, path, target)\u001b[0m\n",
      "\u001b[1;32m~\\AppData\\Local\\Programs\\Python\\Python36\\Lib\\importlib\\_bootstrap_external.py\u001b[0m in \u001b[0;36m_get_spec\u001b[1;34m(cls, fullname, path, target)\u001b[0m\n",
      "\u001b[1;32m~\\AppData\\Local\\Programs\\Python\\Python36\\Lib\\importlib\\_bootstrap_external.py\u001b[0m in \u001b[0;36mfind_spec\u001b[1;34m(self, fullname, target)\u001b[0m\n",
      "\u001b[1;32m~\\AppData\\Local\\Programs\\Python\\Python36\\Lib\\importlib\\_bootstrap_external.py\u001b[0m in \u001b[0;36m_path_stat\u001b[1;34m(path)\u001b[0m\n",
      "\u001b[1;31mKeyboardInterrupt\u001b[0m: "
     ]
    }
   ],
   "source": [
    "# todo: add tensorboard logging\n",
    "# todo: checkpoint/save models\n",
    "# todo: automatically stop when a certain benchmark is reached\n",
    "# initialise environment, required objects, and some variables\n",
    "env = gym.make('CartPole-v0')\n",
    "\n",
    "dqn_agent = DQNAgent(network_generator=build_model, discount_rate=discount_rate)\n",
    "\n",
    "trainer = Trainer(env=env, agent=dqn_agent, memory_buffer=MemoryBuffer(buffer_length), epsilon=start_epsilon, obs_normalisation=stddevs)\n",
    "trainer.run(num_episodes)"
   ]
  },
  {
   "cell_type": "code",
   "execution_count": 73,
   "metadata": {
    "colab": {
     "base_uri": "https://localhost:8080/",
     "height": 17017
    },
    "colab_type": "code",
    "id": "QhgdbJ_TKHR_",
    "outputId": "c35077e5-ada8-4f3b-906c-fd998ee3e8ad",
    "scrolled": false
   },
   "outputs": [
    {
     "name": "stdout",
     "output_type": "stream",
     "text": [
      "Trainer initialised\n",
      "Episode 0 finished after 16 timesteps. 100 ep running avg 15.0. Epsilon 1.\n",
      "Episode 10 finished after 16 timesteps. 100 ep running avg 19.0. Epsilon 0.9043820750088043.\n",
      "Episode 20 finished after 18 timesteps. 100 ep running avg 18.0. Epsilon 0.8179069375972307.\n",
      "Episode 30 finished after 15 timesteps. 100 ep running avg 20.0. Epsilon 0.7397003733882802.\n",
      "Episode 40 finished after 34 timesteps. 100 ep running avg 21.0. Epsilon 0.6689717585696803.\n",
      "Episode 50 finished after 11 timesteps. 100 ep running avg 20.0. Epsilon 0.6050060671375365.\n",
      "Episode 60 finished after 12 timesteps. 100 ep running avg 19.0. Epsilon 0.5471566423907612.\n",
      "Episode 70 finished after 17 timesteps. 100 ep running avg 18.0. Epsilon 0.49483865960020695.\n",
      "Episode 80 finished after 13 timesteps. 100 ep running avg 17.0. Epsilon 0.44752321376381066.\n",
      "Episode 90 finished after 12 timesteps. 100 ep running avg 16.0. Epsilon 0.4047319726783239.\n",
      "Episode 100 finished after 10 timesteps. 100 ep running avg 16.0. Epsilon 0.36603234127322926.\n",
      "Episode 110 finished after 19 timesteps. 100 ep running avg 16.0. Epsilon 0.33103308832101386.\n",
      "Episode 120 finished after 18 timesteps. 100 ep running avg 15.0. Epsilon 0.29938039131233124.\n",
      "Episode 130 finished after 11 timesteps. 100 ep running avg 14.0. Epsilon 0.270754259511994.\n",
      "Episode 140 finished after 12 timesteps. 100 ep running avg 13.0. Epsilon 0.24486529903492946.\n",
      "Episode 150 finished after 10 timesteps. 100 ep running avg 12.0. Epsilon 0.22145178723886094.\n",
      "Episode 160 finished after 32 timesteps. 100 ep running avg 12.0. Epsilon 0.20027702685748935.\n",
      "Episode 170 finished after 17 timesteps. 100 ep running avg 13.0. Epsilon 0.18112695312597027.\n",
      "Episode 180 finished after 9 timesteps. 100 ep running avg 14.0. Epsilon 0.16380796970808745.\n",
      "Episode 190 finished after 10 timesteps. 100 ep running avg 14.0. Epsilon 0.1481449915475795.\n",
      "Episode 200 finished after 10 timesteps. 100 ep running avg 13.0. Epsilon 0.13397967485796175.\n",
      "Episode 210 finished after 8 timesteps. 100 ep running avg 13.0. Epsilon 0.1211688163570484.\n",
      "Episode 220 finished after 27 timesteps. 100 ep running avg 13.0. Epsilon 0.10958290556334822.\n",
      "Episode 230 finished after 38 timesteps. 100 ep running avg 16.0. Epsilon 0.09910481551887473.\n",
      "Episode 240 finished after 8 timesteps. 100 ep running avg 16.0. Epsilon 0.08962861870232469.\n",
      "Episode 250 finished after 11 timesteps. 100 ep running avg 16.0. Epsilon 0.08105851616218133.\n",
      "Episode 260 finished after 37 timesteps. 100 ep running avg 16.0. Epsilon 0.07330786904388827.\n",
      "Episode 270 finished after 166 timesteps. 100 ep running avg 19.0. Epsilon 0.06629832272038537.\n",
      "Episode 280 finished after 31 timesteps. 100 ep running avg 19.0. Epsilon 0.05995901467146548.\n",
      "Episode 290 finished after 162 timesteps. 100 ep running avg 27.0. Epsilon 0.054225858104063294.\n",
      "Episode 300 finished after 59 timesteps. 100 ep running avg 30.0. Epsilon 0.04904089407128576.\n",
      "Episode 310 finished after 200 timesteps. 100 ep running avg 44.0. Epsilon 0.04435170554047638.\n",
      "Episode 320 finished after 200 timesteps. 100 ep running avg 59.0. Epsilon 0.04011088748687551.\n",
      "Episode 330 finished after 200 timesteps. 100 ep running avg 73.0. Epsilon 0.036275567655825146.\n",
      "Episode 340 finished after 200 timesteps. 100 ep running avg 92.0. Epsilon 0.03280697314869741.\n",
      "Episode 350 finished after 200 timesteps. 100 ep running avg 110.0. Epsilon 0.029670038450977095.\n",
      "Episode 360 finished after 200 timesteps. 100 ep running avg 128.0. Epsilon 0.026833050939885677.\n",
      "Episode 370 finished after 200 timesteps. 100 ep running avg 142.0. Epsilon 0.024267330287830756.\n",
      "Episode 380 finished after 183 timesteps. 100 ep running avg 160.0. Epsilon 0.02194693852063239.\n",
      "Episode 390 finished after 171 timesteps. 100 ep running avg 170.0. Epsilon 0.01984841779938018.\n",
      "Episode 400 finished after 159 timesteps. 100 ep running avg 181.0. Epsilon 0.017950553275045134.\n",
      "Episode 410 finished after 200 timesteps. 100 ep running avg 183.0. Epsilon 0.01623415861844141.\n",
      "Episode 420 finished after 147 timesteps. 100 ep running avg 185.0. Epsilon 0.014681882057368112.\n",
      "Episode 430 finished after 200 timesteps. 100 ep running avg 185.0. Epsilon 0.013278030960077106.\n",
      "Episode 440 finished after 169 timesteps. 100 ep running avg 185.0. Epsilon 0.01200841319170568.\n",
      "Episode 450 finished after 200 timesteps. 100 ep running avg 184.0. Epsilon 0.010860193639877886.\n",
      "Episode 460 finished after 200 timesteps. 100 ep running avg 184.0. Epsilon 0.01.\n",
      "Episode 470 finished after 200 timesteps. 100 ep running avg 184.0. Epsilon 0.01.\n",
      "Episode 480 finished after 200 timesteps. 100 ep running avg 183.0. Epsilon 0.01.\n",
      "Episode 490 finished after 181 timesteps. 100 ep running avg 184.0. Epsilon 0.01.\n"
     ]
    }
   ],
   "source": [
    "# todo: add tensorboard logging\n",
    "# todo: checkpoint/save models\n",
    "# todo: automatically stop when a certain benchmark is reached\n",
    "# initialise environment, required objects, and some variables\n",
    "env = gym.make('CartPole-v0')\n",
    "\n",
    "dqn_agent = DQNAgent(network_generator=build_model, discount_rate=discount_rate)\n",
    "\n",
    "trainer = Trainer(env=env, agent=dqn_agent, memory_buffer=MemoryBuffer(buffer_length), epsilon=start_epsilon, obs_normalisation=stddevs)\n",
    "trainer.run(num_episodes)"
   ]
  },
  {
   "cell_type": "code",
   "execution_count": 75,
   "metadata": {},
   "outputs": [
    {
     "data": {
      "text/plain": [
       "(0, 500)"
      ]
     },
     "execution_count": 75,
     "metadata": {},
     "output_type": "execute_result"
    },
    {
     "data": {
      "image/png": "[encoded data removed]",
      "text/plain": [
       "<Figure size 432x288 with 1 Axes>"
      ]
     },
     "metadata": {
      "needs_background": "light"
     },
     "output_type": "display_data"
    }
   ],
   "source": [
    "%matplotlib inline\n",
    "fig, ax = plt.subplots()\n",
    "plt.plot(trainer.episode_lengths,label='episode length')\n",
    "ax.set_xlabel('Episode')\n",
    "ax.set_ylabel('Episode timesteps')\n",
    "ax.set_title('Double DQN; two 32-neuron layers; batch size 32; Adam optimizer; 0.00025 lr')\n",
    "ax.set_ylim(0, max_num_steps)\n",
    "ax.set_xlim(0, len(trainer.episode_lengths))"
   ]
  }
 ],
 "metadata": {
  "colab": {
   "include_colab_link": true,
   "name": "Simple DQN on Cartpole",
   "provenance": [],
   "version": "0.3.2"
  },
  "kernelspec": {
   "display_name": "Python 3",
   "language": "python",
   "name": "python3"
  },
  "language_info": {
   "codemirror_mode": {
    "name": "ipython",
    "version": 3
   },
   "file_extension": ".py",
   "mimetype": "text/x-python",
   "name": "python",
   "nbconvert_exporter": "python",
   "pygments_lexer": "ipython3",
   "version": "3.6.8"
  }
 },
 "nbformat": 4,
 "nbformat_minor": 1
}

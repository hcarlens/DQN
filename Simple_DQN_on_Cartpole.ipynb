{
 "cells": [
  {
   "cell_type": "markdown",
   "metadata": {
    "colab_type": "text",
    "id": "view-in-github"
   },
   "source": [
    "<a href=\"https://colab.research.google.com/github/hcarlens/DQN/blob/master/Simple_DQN_on_Cartpole.ipynb\" target=\"_parent\"><img src=\"https://colab.research.google.com/assets/colab-badge.svg\" alt=\"Open In Colab\"/></a>"
   ]
  },
  {
   "cell_type": "code",
   "execution_count": 1,
   "metadata": {
    "colab": {},
    "colab_type": "code",
    "id": "K4i7oDMqKHRk"
   },
   "outputs": [],
   "source": [
    "# import the necessary packages\n",
    "import numpy as np\n",
    "import pandas as pd\n",
    "import gym\n",
    "import random\n",
    "import tensorflow as tf\n",
    "from tensorflow import keras\n",
    "import matplotlib.pyplot as plt\n",
    "from collections import deque\n",
    "%matplotlib notebook"
   ]
  },
  {
   "cell_type": "code",
   "execution_count": 27,
   "metadata": {
    "colab": {
     "base_uri": "https://localhost:8080/",
     "height": 51
    },
    "colab_type": "code",
    "id": "_62qgD4yKHRt",
    "outputId": "8795f805-7a1f-4877-d996-2c2687a1a060"
   },
   "outputs": [],
   "source": [
    "# set hyperparameters (mostly taken from DQN paper)\n",
    "num_episodes = 500\n",
    "max_num_steps = 200\n",
    "start_epsilon = 1\n",
    "end_epsilon = 0.01\n",
    "epsilon_decay_rate = 0.99\n",
    "discount_rate = 0.99\n",
    "batch_size = 32\n",
    "optimizer_learning_rate = 0.00025\n",
    "buffer_length = 50000\n",
    "target_update_steps = 1000\n",
    "timestep_to_start_learning = 1000\n",
    "\n",
    "# observed standard deviations on an earlier training run\n",
    "stddevs = [0.686056, 0.792005, 0.075029, 0.414541]"
   ]
  },
  {
   "cell_type": "code",
   "execution_count": 3,
   "metadata": {},
   "outputs": [
    {
     "data": {
      "text/html": [
       "<style>.container { width:100% !important; }</style>"
      ],
      "text/plain": [
       "<IPython.core.display.HTML object>"
      ]
     },
     "metadata": {},
     "output_type": "display_data"
    }
   ],
   "source": [
    "# make Jupyter notebook appear wider\n",
    "from IPython.core.display import display, HTML\n",
    "display(HTML(\"<style>.container { width:100% !important; }</style>\"))"
   ]
  },
  {
   "cell_type": "code",
   "execution_count": 25,
   "metadata": {
    "colab": {},
    "colab_type": "code",
    "id": "J0zdUYYsKHR2"
   },
   "outputs": [],
   "source": [
    "# define Q-network (two layers with 32 neurons each)\n",
    "# 4 inputs (one for each scalar observable) +1 to represent the action\n",
    "# todo: change to 4 inputs; 5 outputs to require fewer forward passes\n",
    "def build_model():\n",
    "  model = keras.Sequential([\n",
    "    keras.layers.Dense(128, activation=tf.nn.relu,\n",
    "                       input_shape=(5,)),\n",
    "    keras.layers.Dense(1)\n",
    "  ])\n",
    "\n",
    "  optimizer = tf.train.AdamOptimizer(learning_rate=optimizer_learning_rate)\n",
    "  model.compile(loss='mse', optimizer=optimizer)\n",
    "  return model"
   ]
  },
  {
   "cell_type": "code",
   "execution_count": 5,
   "metadata": {
    "colab": {},
    "colab_type": "code",
    "id": "IMQMkZQRNlrg"
   },
   "outputs": [],
   "source": [
    "# define a memory buffer\n",
    "# todo: add other types of sampling (e.g. PER, HER)\n",
    "class MemoryBuffer:\n",
    "  def __init__(self):\n",
    "    self.memories = deque(maxlen=buffer_length)\n",
    "\n",
    "  def add_memory(self, memory):\n",
    "    self.memories.append(memory)\n",
    "    \n",
    "  def sample_minibatch(self, batch_size):\n",
    "    return random.sample(self.memories, min(len(self.memories), batch_size))"
   ]
  },
  {
   "cell_type": "code",
   "execution_count": 18,
   "metadata": {},
   "outputs": [],
   "source": [
    "class DQNAgent:\n",
    "    def __init__(self, network_generator):\n",
    "        self.q_network = network_generator()\n",
    "        self.target_network = network_generator()\n",
    "        self.update_target_network()\n",
    "        \n",
    "    def fit_batch(self, minibatch):\n",
    "        minibatch = pd.DataFrame(minibatch, \n",
    "                    columns=['observation', 'action', 'reward', 'next_state', 'done'])\n",
    "\n",
    "        # get max q values for the next state\n",
    "        # todo: clean this up! Review and compare against baseline implementations\n",
    "        # Can probably do this just with tensors rather than going via a pandas dataframe\n",
    "        # This might be useful: https://github.com/dennybritz/reinforcement-learning/blob/master/DQN/Double%20DQN%20Solution.ipynb\n",
    "        inputs = pd.DataFrame(minibatch.next_state.tolist())\n",
    "        inputs['zeros'] = 0\n",
    "        inputs['ones'] = 1\n",
    "        next_value_0 = self.target_network.predict(inputs[[0,1,2,3,'zeros']])\n",
    "        next_value_1 = self.target_network.predict(inputs[[0,1,2,3,'ones']])\n",
    "\n",
    "        # calculate target q values; set future values to 0 for terminal states\n",
    "        minibatch['next_state_max_q'] = np.maximum(next_value_0, next_value_1)\n",
    "        minibatch.loc[minibatch.done, 'next_state_max_q'] = 0\n",
    "        minibatch['target_q_value'] = minibatch.reward + discount_rate * minibatch.next_state_max_q\n",
    "\n",
    "        nn_inputs = pd.DataFrame(minibatch.observation.tolist())\n",
    "        nn_inputs['action'] = minibatch.action\n",
    "\n",
    "        q_values =  [np.array(x) for x in minibatch.target_q_value.tolist()]\n",
    "        self.q_network.fit(np.array(nn_inputs.values), np.array(q_values), verbose=0)\n",
    "        \n",
    "    def update_target_network(self):\n",
    "        self.target_network.set_weights(self.q_network.get_weights())\n",
    "        \n",
    "    def act(self,observation):\n",
    "        inputs = np.array([np.append(observation,0), np.append(observation,1)])\n",
    "        action = np.argmax(self.q_network.predict(inputs))\n",
    "        return action"
   ]
  },
  {
   "cell_type": "code",
   "execution_count": 28,
   "metadata": {},
   "outputs": [],
   "source": [
    "# todo: remove references to global variables\n",
    "# todo: add deterministic mode\n",
    "class Trainer:\n",
    "    def __init__(self, env, agent, memory_buffer, epsilon, obs_normalisation=[1,1,1,1], logdir='/logs'):\n",
    "        self.env = env\n",
    "        self.total_steps = 0\n",
    "        self.episode_lengths = []\n",
    "        self.epsilon = epsilon\n",
    "        self.agent = agent\n",
    "        self.memory_buffer = memory_buffer\n",
    "        \n",
    "        self.obs_normalisation = obs_normalisation\n",
    "        print('Trainer initialised')\n",
    "        \n",
    "    def run(self, num_episodes):\n",
    "        # run through episodes\n",
    "        for e in range(num_episodes):\n",
    "            observation = self.env.reset()\n",
    "            observation = np.divide(observation, self.obs_normalisation)\n",
    "\n",
    "            for t in range(max_num_steps):\n",
    "                # set the target network weights to be the same as the q-network ones every so often\n",
    "                if self.total_steps % target_update_steps == 0:\n",
    "                    self.agent.update_target_network()\n",
    "                                \n",
    "                # with probability epsilon, choose a random action\n",
    "                # otherwise use Q-network to pick action \n",
    "                if random.uniform(0, 1) < self.epsilon:\n",
    "                    action = self.env.action_space.sample()\n",
    "                else:\n",
    "                    action = self.agent.act(observation)\n",
    "\n",
    "                next_observation, reward, done, info = env.step(action)\n",
    "\n",
    "                # add memory to buffer\n",
    "                memory = (observation, action, reward, next_observation, done)\n",
    "                self.memory_buffer.add_memory(memory)\n",
    "                \n",
    "                if self.total_steps > timestep_to_start_learning:\n",
    "                    # sample a minibatch of experiences and update q-network\n",
    "                    minibatch = self.memory_buffer.sample_minibatch(batch_size)\n",
    "                    self.agent.fit_batch(minibatch)\n",
    "\n",
    "                observation = next_observation\n",
    "                self.total_steps += 1\n",
    "                if done or t == max_num_steps - 1:\n",
    "                    break \n",
    "\n",
    "            self.episode_lengths.append(t)\n",
    "\n",
    "            if e % 10 == 0:\n",
    "                print(\"Episode {} finished after {} timesteps. 100 ep running avg {}. Epsilon {}.\".format(e, t+1, np.floor(np.average(self.episode_lengths[-100:])), self.epsilon))\n",
    "\n",
    "            # decrease epsilon value\n",
    "            self.epsilon = max(self.epsilon * epsilon_decay_rate, end_epsilon)"
   ]
  },
  {
   "cell_type": "code",
   "execution_count": 29,
   "metadata": {
    "colab": {
     "base_uri": "https://localhost:8080/",
     "height": 17017
    },
    "colab_type": "code",
    "id": "QhgdbJ_TKHR_",
    "outputId": "c35077e5-ada8-4f3b-906c-fd998ee3e8ad",
    "scrolled": false
   },
   "outputs": [
    {
     "name": "stdout",
     "output_type": "stream",
     "text": [
      "Trainer initialised\n",
      "Episode 0 finished after 10 timesteps. 100 ep running avg 9.0. Epsilon 1.\n",
      "Episode 10 finished after 18 timesteps. 100 ep running avg 14.0. Epsilon 0.9043820750088043.\n",
      "Episode 20 finished after 15 timesteps. 100 ep running avg 15.0. Epsilon 0.8179069375972307.\n",
      "Episode 30 finished after 21 timesteps. 100 ep running avg 15.0. Epsilon 0.7397003733882802.\n",
      "Episode 40 finished after 12 timesteps. 100 ep running avg 15.0. Epsilon 0.6689717585696803.\n",
      "Episode 50 finished after 9 timesteps. 100 ep running avg 15.0. Epsilon 0.6050060671375365.\n",
      "Episode 60 finished after 14 timesteps. 100 ep running avg 14.0. Epsilon 0.5471566423907612.\n",
      "Episode 70 finished after 14 timesteps. 100 ep running avg 14.0. Epsilon 0.49483865960020695.\n",
      "Episode 80 finished after 17 timesteps. 100 ep running avg 14.0. Epsilon 0.44752321376381066.\n",
      "Episode 90 finished after 15 timesteps. 100 ep running avg 13.0. Epsilon 0.4047319726783239.\n",
      "Episode 100 finished after 11 timesteps. 100 ep running avg 13.0. Epsilon 0.36603234127322926.\n",
      "Episode 110 finished after 13 timesteps. 100 ep running avg 13.0. Epsilon 0.33103308832101386.\n",
      "Episode 120 finished after 9 timesteps. 100 ep running avg 12.0. Epsilon 0.29938039131233124.\n",
      "Episode 130 finished after 9 timesteps. 100 ep running avg 12.0. Epsilon 0.270754259511994.\n",
      "Episode 140 finished after 11 timesteps. 100 ep running avg 11.0. Epsilon 0.24486529903492946.\n",
      "Episode 150 finished after 9 timesteps. 100 ep running avg 11.0. Epsilon 0.22145178723886094.\n",
      "Episode 160 finished after 20 timesteps. 100 ep running avg 12.0. Epsilon 0.20027702685748935.\n",
      "Episode 170 finished after 21 timesteps. 100 ep running avg 13.0. Epsilon 0.18112695312597027.\n",
      "Episode 180 finished after 31 timesteps. 100 ep running avg 14.0. Epsilon 0.16380796970808745.\n",
      "Episode 190 finished after 9 timesteps. 100 ep running avg 16.0. Epsilon 0.1481449915475795.\n",
      "Episode 200 finished after 23 timesteps. 100 ep running avg 17.0. Epsilon 0.13397967485796175.\n",
      "Episode 210 finished after 54 timesteps. 100 ep running avg 19.0. Epsilon 0.1211688163570484.\n",
      "Episode 220 finished after 28 timesteps. 100 ep running avg 20.0. Epsilon 0.10958290556334822.\n",
      "Episode 230 finished after 42 timesteps. 100 ep running avg 21.0. Epsilon 0.09910481551887473.\n",
      "Episode 240 finished after 18 timesteps. 100 ep running avg 24.0. Epsilon 0.08962861870232469.\n",
      "Episode 250 finished after 26 timesteps. 100 ep running avg 25.0. Epsilon 0.08105851616218133.\n",
      "Episode 260 finished after 17 timesteps. 100 ep running avg 25.0. Epsilon 0.07330786904388827.\n",
      "Episode 270 finished after 86 timesteps. 100 ep running avg 28.0. Epsilon 0.06629832272038537.\n",
      "Episode 280 finished after 62 timesteps. 100 ep running avg 30.0. Epsilon 0.05995901467146548.\n",
      "Episode 290 finished after 53 timesteps. 100 ep running avg 34.0. Epsilon 0.054225858104063294.\n",
      "Episode 300 finished after 51 timesteps. 100 ep running avg 37.0. Epsilon 0.04904089407128576.\n",
      "Episode 310 finished after 47 timesteps. 100 ep running avg 43.0. Epsilon 0.04435170554047638.\n",
      "Episode 320 finished after 199 timesteps. 100 ep running avg 55.0. Epsilon 0.04011088748687551.\n",
      "Episode 330 finished after 200 timesteps. 100 ep running avg 68.0. Epsilon 0.036275567655825146.\n",
      "Episode 340 finished after 200 timesteps. 100 ep running avg 82.0. Epsilon 0.03280697314869741.\n",
      "Episode 350 finished after 200 timesteps. 100 ep running avg 98.0. Epsilon 0.029670038450977095.\n",
      "Episode 360 finished after 155 timesteps. 100 ep running avg 113.0. Epsilon 0.026833050939885677.\n",
      "Episode 370 finished after 200 timesteps. 100 ep running avg 127.0. Epsilon 0.024267330287830756.\n",
      "Episode 380 finished after 200 timesteps. 100 ep running avg 142.0. Epsilon 0.02194693852063239.\n",
      "Episode 390 finished after 200 timesteps. 100 ep running avg 155.0. Epsilon 0.01984841779938018.\n",
      "Episode 400 finished after 200 timesteps. 100 ep running avg 167.0. Epsilon 0.017950553275045134.\n",
      "Episode 410 finished after 200 timesteps. 100 ep running avg 178.0. Epsilon 0.01623415861844141.\n",
      "Episode 420 finished after 200 timesteps. 100 ep running avg 184.0. Epsilon 0.014681882057368112.\n",
      "Episode 430 finished after 200 timesteps. 100 ep running avg 188.0. Epsilon 0.013278030960077106.\n",
      "Episode 440 finished after 200 timesteps. 100 ep running avg 190.0. Epsilon 0.01200841319170568.\n",
      "Episode 450 finished after 200 timesteps. 100 ep running avg 192.0. Epsilon 0.010860193639877886.\n",
      "Episode 460 finished after 200 timesteps. 100 ep running avg 194.0. Epsilon 0.01.\n",
      "Episode 470 finished after 200 timesteps. 100 ep running avg 194.0. Epsilon 0.01.\n",
      "Episode 480 finished after 200 timesteps. 100 ep running avg 195.0. Epsilon 0.01.\n",
      "Episode 490 finished after 200 timesteps. 100 ep running avg 195.0. Epsilon 0.01.\n"
     ]
    }
   ],
   "source": [
    "# todo: add tensorboard logging\n",
    "# todo: checkpoint/save models\n",
    "# todo: automatically stop when a certain benchmark is reached\n",
    "# initialise environment, required objects, and some variables\n",
    "env = gym.make('CartPole-v0')\n",
    "\n",
    "dqn_agent = DQNAgent(network_generator=build_model)\n",
    "\n",
    "trainer = Trainer(env=env, agent=dqn_agent, memory_buffer=MemoryBuffer(), epsilon=start_epsilon, obs_normalisation=stddevs)\n",
    "trainer.run(num_episodes)"
   ]
  },
  {
   "cell_type": "code",
   "execution_count": 30,
   "metadata": {
    "colab": {
     "base_uri": "https://localhost:8080/",
     "height": 282
    },
    "colab_type": "code",
    "id": "wRdNiHgEKHSG",
    "outputId": "bfcb1d95-fcb1-4478-a0f1-dc7232ae72ce"
   },
   "outputs": [
    {
     "data": {
      "text/plain": [
       "(0, 500)"
      ]
     },
     "execution_count": 30,
     "metadata": {},
     "output_type": "execute_result"
    },
    {
     "data": {
      "image/png": "[encoded data removed]",
      "text/plain": [
       "<Figure size 432x288 with 1 Axes>"
      ]
     },
     "metadata": {
      "needs_background": "light"
     },
     "output_type": "display_data"
    }
   ],
   "source": [
    "%matplotlib inline\n",
    "fig, ax = plt.subplots()\n",
    "plt.plot(trainer.episode_lengths,label='episode length')\n",
    "ax.set_xlabel('Episode')\n",
    "ax.set_ylabel('Episode timesteps')\n",
    "ax.set_title('Double DQN; two 32-neuron layers; batch size 32; Adam optimizer; 0.00025 lr')\n",
    "ax.set_ylim(0, max_num_steps)\n",
    "ax.set_xlim(0, len(trainer.episode_lengths))"
   ]
  }
 ],
 "metadata": {
  "colab": {
   "include_colab_link": true,
   "name": "Simple DQN on Cartpole",
   "provenance": [],
   "version": "0.3.2"
  },
  "kernelspec": {
   "display_name": "Python 3",
   "language": "python",
   "name": "python3"
  },
  "language_info": {
   "codemirror_mode": {
    "name": "ipython",
    "version": 3
   },
   "file_extension": ".py",
   "mimetype": "text/x-python",
   "name": "python",
   "nbconvert_exporter": "python",
   "pygments_lexer": "ipython3",
   "version": "3.6.6"
  }
 },
 "nbformat": 4,
 "nbformat_minor": 1
}

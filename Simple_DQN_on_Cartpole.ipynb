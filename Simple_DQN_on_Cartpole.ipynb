{
 "cells": [
  {
   "cell_type": "markdown",
   "metadata": {
    "colab_type": "text",
    "id": "view-in-github"
   },
   "source": [
    "<a href=\"https://colab.research.google.com/github/hcarlens/DQN/blob/master/Simple_DQN_on_Cartpole.ipynb\" target=\"_parent\"><img src=\"https://colab.research.google.com/assets/colab-badge.svg\" alt=\"Open In Colab\"/></a>"
   ]
  },
  {
   "cell_type": "code",
   "execution_count": 1,
   "metadata": {
    "colab": {},
    "colab_type": "code",
    "id": "K4i7oDMqKHRk"
   },
   "outputs": [],
   "source": [
    "# import the necessary packages\n",
    "import numpy as np\n",
    "import gym\n",
    "import random\n",
    "import tensorflow as tf\n",
    "from tensorflow import keras\n",
    "import matplotlib.pyplot as plt\n",
    "from collections import deque\n",
    "%matplotlib inline"
   ]
  },
  {
   "cell_type": "code",
   "execution_count": 29,
   "metadata": {
    "colab": {
     "base_uri": "https://localhost:8080/",
     "height": 51
    },
    "colab_type": "code",
    "id": "_62qgD4yKHRt",
    "outputId": "8795f805-7a1f-4877-d996-2c2687a1a060"
   },
   "outputs": [],
   "source": [
    "# set hyperparameters (mostly taken from DQN paper)\n",
    "num_episodes = 1000\n",
    "max_num_steps = 200\n",
    "start_epsilon = 1\n",
    "end_epsilon = 0.01\n",
    "epsilon_decay_rate = 0.99\n",
    "discount_rate = 0.99\n",
    "batch_size = 32\n",
    "optimizer_learning_rate = 0.0025\n",
    "buffer_length = 50000\n",
    "target_update_steps = 1000"
   ]
  },
  {
   "cell_type": "code",
   "execution_count": 17,
   "metadata": {
    "colab": {},
    "colab_type": "code",
    "id": "J0zdUYYsKHR2"
   },
   "outputs": [],
   "source": [
    "# define Q-network (two layers with 32 neurons each)\n",
    "# 4 inputs (one for each scalar observable) +1 to represent the action\n",
    "# todo: try other network architectures\n",
    "# todo: change to 4 inputs; 5 outputs to require fewer forward passes\n",
    "def build_model():\n",
    "  model = keras.Sequential([\n",
    "    keras.layers.Dense(32, activation=tf.nn.relu,\n",
    "                       input_shape=(5,)),\n",
    "    keras.layers.Dense(32, activation=tf.nn.relu),\n",
    "    keras.layers.Dense(1)\n",
    "  ])\n",
    "\n",
    "  optimizer = tf.train.RMSPropOptimizer(learning_rate=optimizer_learning_rate)\n",
    "  model.compile(loss='mse', optimizer=optimizer)\n",
    "  return model"
   ]
  },
  {
   "cell_type": "code",
   "execution_count": 21,
   "metadata": {
    "colab": {},
    "colab_type": "code",
    "id": "IMQMkZQRNlrg"
   },
   "outputs": [],
   "source": [
    "# define a memory buffer\n",
    "class MemoryBuffer:\n",
    "  def __init__(self):\n",
    "    self.experience_buffer = deque(maxlen=buffer_length)\n",
    "\n",
    "  def add_memory(self, memory):\n",
    "    self.experience_buffer.append(memory)\n",
    "    \n",
    "  def sample_minibatch(self, batch_size):\n",
    "    # sample from experience buffer\n",
    "    minibatch = random.sample(self.experience_buffer, min(len(self.experience_buffer), batch_size))\n",
    "    input_cache = []\n",
    "    label_cache = []\n",
    "    \n",
    "    # todo: make this more efficient by turning the sampled mini batch into one tensor\n",
    "    # todo: move state processing code out of memory class\n",
    "    # parse all the relevant states in our replay buffer\n",
    "    for state, action, reward, next_state, done in minibatch:\n",
    "        if done: \n",
    "            target_q_value = reward\n",
    "        else:         \n",
    "            max_q_next_state = max(target_network.predict(np.array([np.append(next_state,0), np.append(next_state,1)])))[0]\n",
    "            \n",
    "            target_q_value = reward + discount_rate * max_q_next_state\n",
    "\n",
    "        input_cache.append(np.append(state, action))\n",
    "        label_cache.append(np.array(target_q_value))\n",
    "    return input_cache, label_cache"
   ]
  },
  {
   "cell_type": "code",
   "execution_count": null,
   "metadata": {
    "colab": {
     "base_uri": "https://localhost:8080/",
     "height": 17017
    },
    "colab_type": "code",
    "id": "QhgdbJ_TKHR_",
    "outputId": "c35077e5-ada8-4f3b-906c-fd998ee3e8ad",
    "scrolled": false
   },
   "outputs": [
    {
     "name": "stdout",
     "output_type": "stream",
     "text": [
      "0  steps taken. Target network weights updated. \n",
      "Episode 0 finished after 38 timesteps. 100 ep running avg 37.0. Epsilon 1. Memory buffer length 38.\n",
      "Episode 10 finished after 25 timesteps. 100 ep running avg 22.0. Epsilon 0.9043820750088043. Memory buffer length 260.\n",
      "Episode 20 finished after 10 timesteps. 100 ep running avg 19.0. Epsilon 0.8179069375972307. Memory buffer length 434.\n",
      "Episode 30 finished after 12 timesteps. 100 ep running avg 19.0. Epsilon 0.7397003733882802. Memory buffer length 629.\n",
      "Episode 40 finished after 18 timesteps. 100 ep running avg 18.0. Epsilon 0.6689717585696803. Memory buffer length 792.\n",
      "Episode 50 finished after 16 timesteps. 100 ep running avg 17.0. Epsilon 0.6050060671375365. Memory buffer length 923.\n",
      "1000  steps taken. Target network weights updated. \n",
      "Episode 60 finished after 9 timesteps. 100 ep running avg 16.0. Epsilon 0.5471566423907612. Memory buffer length 1044.\n",
      "Episode 70 finished after 13 timesteps. 100 ep running avg 15.0. Epsilon 0.49483865960020695. Memory buffer length 1194.\n",
      "Episode 80 finished after 10 timesteps. 100 ep running avg 15.0. Epsilon 0.44752321376381066. Memory buffer length 1349.\n",
      "Episode 90 finished after 9 timesteps. 100 ep running avg 15.0. Epsilon 0.4047319726783239. Memory buffer length 1475.\n",
      "Episode 100 finished after 12 timesteps. 100 ep running avg 14.0. Epsilon 0.36603234127322926. Memory buffer length 1608.\n",
      "Episode 110 finished after 9 timesteps. 100 ep running avg 13.0. Epsilon 0.33103308832101386. Memory buffer length 1712.\n",
      "Episode 120 finished after 9 timesteps. 100 ep running avg 12.0. Epsilon 0.29938039131233124. Memory buffer length 1829.\n",
      "Episode 130 finished after 12 timesteps. 100 ep running avg 12.0. Epsilon 0.270754259511994. Memory buffer length 1936.\n",
      "2000  steps taken. Target network weights updated. \n",
      "Episode 140 finished after 13 timesteps. 100 ep running avg 11.0. Epsilon 0.24486529903492946. Memory buffer length 2075.\n",
      "Episode 150 finished after 10 timesteps. 100 ep running avg 12.0. Epsilon 0.22145178723886094. Memory buffer length 2245.\n",
      "Episode 160 finished after 11 timesteps. 100 ep running avg 12.0. Epsilon 0.20027702685748935. Memory buffer length 2366.\n",
      "Episode 170 finished after 9 timesteps. 100 ep running avg 11.0. Epsilon 0.18112695312597027. Memory buffer length 2478.\n",
      "Episode 180 finished after 11 timesteps. 100 ep running avg 11.0. Epsilon 0.16380796970808745. Memory buffer length 2627.\n",
      "Episode 190 finished after 12 timesteps. 100 ep running avg 11.0. Epsilon 0.1481449915475795. Memory buffer length 2738.\n",
      "Episode 200 finished after 11 timesteps. 100 ep running avg 11.0. Epsilon 0.13397967485796175. Memory buffer length 2877.\n",
      "3000  steps taken. Target network weights updated. \n",
      "Episode 210 finished after 13 timesteps. 100 ep running avg 12.0. Epsilon 0.1211688163570484. Memory buffer length 3016.\n",
      "Episode 220 finished after 14 timesteps. 100 ep running avg 15.0. Epsilon 0.10958290556334822. Memory buffer length 3487.\n",
      "Episode 230 finished after 55 timesteps. 100 ep running avg 18.0. Epsilon 0.09910481551887473. Memory buffer length 3858.\n",
      "4000  steps taken. Target network weights updated. \n",
      "Episode 240 finished after 40 timesteps. 100 ep running avg 20.0. Epsilon 0.08962861870232469. Memory buffer length 4254.\n",
      "Episode 250 finished after 158 timesteps. 100 ep running avg 25.0. Epsilon 0.08105851616218133. Memory buffer length 4868.\n",
      "5000  steps taken. Target network weights updated. \n",
      "6000  steps taken. Target network weights updated. \n",
      "Episode 260 finished after 176 timesteps. 100 ep running avg 36.0. Epsilon 0.07330786904388827. Memory buffer length 6158.\n",
      "7000  steps taken. Target network weights updated. \n",
      "Episode 270 finished after 171 timesteps. 100 ep running avg 52.0. Epsilon 0.06629832272038537. Memory buffer length 7814.\n",
      "8000  steps taken. Target network weights updated. \n",
      "9000  steps taken. Target network weights updated. \n",
      "Episode 280 finished after 200 timesteps. 100 ep running avg 69.0. Epsilon 0.05995901467146548. Memory buffer length 9668.\n",
      "10000  steps taken. Target network weights updated. \n",
      "11000  steps taken. Target network weights updated. \n",
      "Episode 290 finished after 87 timesteps. 100 ep running avg 85.0. Epsilon 0.054225858104063294. Memory buffer length 11386.\n",
      "12000  steps taken. Target network weights updated. \n",
      "Episode 300 finished after 105 timesteps. 100 ep running avg 96.0. Epsilon 0.04904089407128576. Memory buffer length 12583.\n",
      "13000  steps taken. Target network weights updated. \n",
      "Episode 310 finished after 160 timesteps. 100 ep running avg 106.0. Epsilon 0.04435170554047638. Memory buffer length 13765.\n",
      "14000  steps taken. Target network weights updated. \n",
      "Episode 320 finished after 117 timesteps. 100 ep running avg 114.0. Epsilon 0.04011088748687551. Memory buffer length 14989.\n",
      "15000  steps taken. Target network weights updated. \n",
      "16000  steps taken. Target network weights updated. \n",
      "Episode 330 finished after 108 timesteps. 100 ep running avg 121.0. Epsilon 0.036275567655825146. Memory buffer length 16069.\n",
      "17000  steps taken. Target network weights updated. \n",
      "Episode 340 finished after 98 timesteps. 100 ep running avg 128.0. Epsilon 0.03280697314869741. Memory buffer length 17185.\n",
      "18000  steps taken. Target network weights updated. \n",
      "Episode 350 finished after 110 timesteps. 100 ep running avg 133.0. Epsilon 0.029670038450977095. Memory buffer length 18324.\n",
      "19000  steps taken. Target network weights updated. \n",
      "Episode 360 finished after 200 timesteps. 100 ep running avg 135.0. Epsilon 0.026833050939885677. Memory buffer length 19786.\n",
      "20000  steps taken. Target network weights updated. \n",
      "21000  steps taken. Target network weights updated. \n",
      "Episode 370 finished after 158 timesteps. 100 ep running avg 137.0. Epsilon 0.024267330287830756. Memory buffer length 21668.\n",
      "22000  steps taken. Target network weights updated. \n",
      "23000  steps taken. Target network weights updated. \n",
      "Episode 380 finished after 135 timesteps. 100 ep running avg 137.0. Epsilon 0.02194693852063239. Memory buffer length 23477.\n",
      "24000  steps taken. Target network weights updated. \n",
      "Episode 390 finished after 119 timesteps. 100 ep running avg 131.0. Epsilon 0.01984841779938018. Memory buffer length 24639.\n",
      "25000  steps taken. Target network weights updated. \n",
      "Episode 400 finished after 127 timesteps. 100 ep running avg 132.0. Epsilon 0.017950553275045134. Memory buffer length 25909.\n",
      "26000  steps taken. Target network weights updated. \n",
      "27000  steps taken. Target network weights updated. \n",
      "Episode 410 finished after 200 timesteps. 100 ep running avg 138.0. Epsilon 0.01623415861844141. Memory buffer length 27680.\n",
      "28000  steps taken. Target network weights updated. \n",
      "29000  steps taken. Target network weights updated. \n",
      "Episode 420 finished after 200 timesteps. 100 ep running avg 144.0. Epsilon 0.014681882057368112. Memory buffer length 29562.\n",
      "30000  steps taken. Target network weights updated. \n",
      "31000  steps taken. Target network weights updated. \n",
      "Episode 430 finished after 79 timesteps. 100 ep running avg 150.0. Epsilon 0.013278030960077106. Memory buffer length 31196.\n",
      "32000  steps taken. Target network weights updated. \n",
      "33000  steps taken. Target network weights updated. \n",
      "Episode 440 finished after 200 timesteps. 100 ep running avg 159.0. Epsilon 0.01200841319170568. Memory buffer length 33191.\n",
      "34000  steps taken. Target network weights updated. \n",
      "Episode 450 finished after 106 timesteps. 100 ep running avg 165.0. Epsilon 0.010860193639877886. Memory buffer length 34950.\n",
      "35000  steps taken. Target network weights updated. \n",
      "36000  steps taken. Target network weights updated. \n",
      "Episode 460 finished after 166 timesteps. 100 ep running avg 169.0. Epsilon 0.01. Memory buffer length 36872.\n",
      "37000  steps taken. Target network weights updated. \n",
      "38000  steps taken. Target network weights updated. \n",
      "Episode 470 finished after 117 timesteps. 100 ep running avg 164.0. Epsilon 0.01. Memory buffer length 38200.\n",
      "39000  steps taken. Target network weights updated. \n",
      "Episode 480 finished after 200 timesteps. 100 ep running avg 160.0. Epsilon 0.01. Memory buffer length 39604.\n",
      "40000  steps taken. Target network weights updated. \n",
      "41000  steps taken. Target network weights updated. \n",
      "Episode 490 finished after 200 timesteps. 100 ep running avg 164.0. Epsilon 0.01. Memory buffer length 41189.\n"
     ]
    },
    {
     "name": "stdout",
     "output_type": "stream",
     "text": [
      "42000  steps taken. Target network weights updated. \n",
      "Episode 500 finished after 172 timesteps. 100 ep running avg 165.0. Epsilon 0.01. Memory buffer length 42566.\n",
      "43000  steps taken. Target network weights updated. \n",
      "Episode 510 finished after 130 timesteps. 100 ep running avg 159.0. Epsilon 0.01. Memory buffer length 43743.\n",
      "44000  steps taken. Target network weights updated. \n",
      "45000  steps taken. Target network weights updated. \n",
      "Episode 520 finished after 128 timesteps. 100 ep running avg 155.0. Epsilon 0.01. Memory buffer length 45171.\n",
      "46000  steps taken. Target network weights updated. \n",
      "Episode 530 finished after 200 timesteps. 100 ep running avg 153.0. Epsilon 0.01. Memory buffer length 46644.\n",
      "47000  steps taken. Target network weights updated. \n",
      "48000  steps taken. Target network weights updated. \n",
      "Episode 540 finished after 113 timesteps. 100 ep running avg 147.0. Epsilon 0.01. Memory buffer length 48038.\n",
      "49000  steps taken. Target network weights updated. \n",
      "Episode 550 finished after 145 timesteps. 100 ep running avg 143.0. Epsilon 0.01. Memory buffer length 49360.\n",
      "50000  steps taken. Target network weights updated. \n",
      "Episode 560 finished after 103 timesteps. 100 ep running avg 136.0. Epsilon 0.01. Memory buffer length 50000.\n",
      "51000  steps taken. Target network weights updated. \n",
      "Episode 570 finished after 126 timesteps. 100 ep running avg 135.0. Epsilon 0.01. Memory buffer length 50000.\n",
      "52000  steps taken. Target network weights updated. \n",
      "53000  steps taken. Target network weights updated. \n",
      "Episode 580 finished after 115 timesteps. 100 ep running avg 133.0. Epsilon 0.01. Memory buffer length 50000.\n",
      "54000  steps taken. Target network weights updated. \n",
      "Episode 590 finished after 111 timesteps. 100 ep running avg 129.0. Epsilon 0.01. Memory buffer length 50000.\n",
      "55000  steps taken. Target network weights updated. \n",
      "Episode 600 finished after 141 timesteps. 100 ep running avg 127.0. Epsilon 0.01. Memory buffer length 50000.\n",
      "56000  steps taken. Target network weights updated. \n",
      "Episode 610 finished after 113 timesteps. 100 ep running avg 129.0. Epsilon 0.01. Memory buffer length 50000.\n",
      "57000  steps taken. Target network weights updated. \n",
      "Episode 620 finished after 129 timesteps. 100 ep running avg 127.0. Epsilon 0.01. Memory buffer length 50000.\n",
      "58000  steps taken. Target network weights updated. \n",
      "59000  steps taken. Target network weights updated. \n",
      "Episode 630 finished after 200 timesteps. 100 ep running avg 126.0. Epsilon 0.01. Memory buffer length 50000.\n",
      "60000  steps taken. Target network weights updated. \n",
      "Episode 640 finished after 181 timesteps. 100 ep running avg 123.0. Epsilon 0.01. Memory buffer length 50000.\n",
      "61000  steps taken. Target network weights updated. \n",
      "Episode 650 finished after 200 timesteps. 100 ep running avg 122.0. Epsilon 0.01. Memory buffer length 50000.\n",
      "62000  steps taken. Target network weights updated. \n",
      "Episode 660 finished after 49 timesteps. 100 ep running avg 120.0. Epsilon 0.01. Memory buffer length 50000.\n",
      "63000  steps taken. Target network weights updated. \n",
      "Episode 670 finished after 84 timesteps. 100 ep running avg 114.0. Epsilon 0.01. Memory buffer length 50000.\n",
      "64000  steps taken. Target network weights updated. \n",
      "Episode 680 finished after 27 timesteps. 100 ep running avg 109.0. Epsilon 0.01. Memory buffer length 50000.\n",
      "Episode 690 finished after 29 timesteps. 100 ep running avg 101.0. Epsilon 0.01. Memory buffer length 50000.\n",
      "Episode 700 finished after 25 timesteps. 100 ep running avg 93.0. Epsilon 0.01. Memory buffer length 50000.\n",
      "65000  steps taken. Target network weights updated. \n",
      "Episode 710 finished after 17 timesteps. 100 ep running avg 83.0. Epsilon 0.01. Memory buffer length 50000.\n",
      "66000  steps taken. Target network weights updated. \n",
      "Episode 720 finished after 160 timesteps. 100 ep running avg 86.0. Epsilon 0.01. Memory buffer length 50000.\n",
      "67000  steps taken. Target network weights updated. \n",
      "68000  steps taken. Target network weights updated. \n",
      "Episode 730 finished after 200 timesteps. 100 ep running avg 88.0. Epsilon 0.01. Memory buffer length 50000.\n",
      "69000  steps taken. Target network weights updated. \n",
      "70000  steps taken. Target network weights updated. \n",
      "Episode 740 finished after 200 timesteps. 100 ep running avg 97.0. Epsilon 0.01. Memory buffer length 50000.\n",
      "71000  steps taken. Target network weights updated. \n",
      "72000  steps taken. Target network weights updated. \n",
      "Episode 750 finished after 174 timesteps. 100 ep running avg 104.0. Epsilon 0.01. Memory buffer length 50000.\n",
      "73000  steps taken. Target network weights updated. \n",
      "74000  steps taken. Target network weights updated. \n",
      "Episode 760 finished after 198 timesteps. 100 ep running avg 112.0. Epsilon 0.01. Memory buffer length 50000.\n",
      "75000  steps taken. Target network weights updated. \n",
      "Episode 770 finished after 200 timesteps. 100 ep running avg 124.0. Epsilon 0.01. Memory buffer length 50000.\n",
      "76000  steps taken. Target network weights updated. \n",
      "77000  steps taken. Target network weights updated. \n",
      "Episode 780 finished after 200 timesteps. 100 ep running avg 137.0. Epsilon 0.01. Memory buffer length 50000.\n",
      "78000  steps taken. Target network weights updated. \n",
      "79000  steps taken. Target network weights updated. \n",
      "Episode 790 finished after 200 timesteps. 100 ep running avg 151.0. Epsilon 0.01. Memory buffer length 50000.\n",
      "80000  steps taken. Target network weights updated. \n",
      "81000  steps taken. Target network weights updated. \n",
      "Episode 800 finished after 130 timesteps. 100 ep running avg 165.0. Epsilon 0.01. Memory buffer length 50000.\n",
      "82000  steps taken. Target network weights updated. \n",
      "Episode 810 finished after 147 timesteps. 100 ep running avg 175.0. Epsilon 0.01. Memory buffer length 50000.\n",
      "83000  steps taken. Target network weights updated. \n",
      "84000  steps taken. Target network weights updated. \n",
      "Episode 820 finished after 141 timesteps. 100 ep running avg 172.0. Epsilon 0.01. Memory buffer length 50000.\n",
      "85000  steps taken. Target network weights updated. \n",
      "Episode 830 finished after 114 timesteps. 100 ep running avg 167.0. Epsilon 0.01. Memory buffer length 50000.\n",
      "86000  steps taken. Target network weights updated. \n",
      "Episode 840 finished after 170 timesteps. 100 ep running avg 162.0. Epsilon 0.01. Memory buffer length 50000.\n",
      "87000  steps taken. Target network weights updated. \n",
      "88000  steps taken. Target network weights updated. \n",
      "Episode 850 finished after 152 timesteps. 100 ep running avg 159.0. Epsilon 0.01. Memory buffer length 50000.\n",
      "89000  steps taken. Target network weights updated. \n",
      "90000  steps taken. Target network weights updated. \n",
      "Episode 860 finished after 200 timesteps. 100 ep running avg 159.0. Epsilon 0.01. Memory buffer length 50000.\n",
      "91000  steps taken. Target network weights updated. \n",
      "92000  steps taken. Target network weights updated. \n",
      "Episode 870 finished after 200 timesteps. 100 ep running avg 161.0. Epsilon 0.01. Memory buffer length 50000.\n",
      "93000  steps taken. Target network weights updated. \n",
      "94000  steps taken. Target network weights updated. \n",
      "Episode 880 finished after 200 timesteps. 100 ep running avg 160.0. Epsilon 0.01. Memory buffer length 50000.\n",
      "95000  steps taken. Target network weights updated. \n",
      "Episode 890 finished after 122 timesteps. 100 ep running avg 161.0. Epsilon 0.01. Memory buffer length 50000.\n",
      "96000  steps taken. Target network weights updated. \n",
      "97000  steps taken. Target network weights updated. \n",
      "Episode 900 finished after 200 timesteps. 100 ep running avg 163.0. Epsilon 0.01. Memory buffer length 50000.\n",
      "98000  steps taken. Target network weights updated. \n",
      "99000  steps taken. Target network weights updated. \n",
      "Episode 910 finished after 200 timesteps. 100 ep running avg 169.0. Epsilon 0.01. Memory buffer length 50000.\n",
      "100000  steps taken. Target network weights updated. \n",
      "101000  steps taken. Target network weights updated. \n",
      "Episode 920 finished after 149 timesteps. 100 ep running avg 174.0. Epsilon 0.01. Memory buffer length 50000.\n",
      "102000  steps taken. Target network weights updated. \n",
      "103000  steps taken. Target network weights updated. \n",
      "Episode 930 finished after 136 timesteps. 100 ep running avg 178.0. Epsilon 0.01. Memory buffer length 50000.\n",
      "104000  steps taken. Target network weights updated. \n",
      "Episode 940 finished after 200 timesteps. 100 ep running avg 180.0. Epsilon 0.01. Memory buffer length 50000.\n"
     ]
    },
    {
     "name": "stdout",
     "output_type": "stream",
     "text": [
      "105000  steps taken. Target network weights updated. \n",
      "106000  steps taken. Target network weights updated. \n",
      "Episode 950 finished after 130 timesteps. 100 ep running avg 179.0. Epsilon 0.01. Memory buffer length 50000.\n",
      "107000  steps taken. Target network weights updated. \n",
      "Episode 960 finished after 125 timesteps. 100 ep running avg 172.0. Epsilon 0.01. Memory buffer length 50000.\n",
      "108000  steps taken. Target network weights updated. \n",
      "Episode 970 finished after 131 timesteps. 100 ep running avg 165.0. Epsilon 0.01. Memory buffer length 50000.\n",
      "109000  steps taken. Target network weights updated. \n",
      "110000  steps taken. Target network weights updated. \n",
      "Episode 980 finished after 112 timesteps. 100 ep running avg 160.0. Epsilon 0.01. Memory buffer length 50000.\n",
      "111000  steps taken. Target network weights updated. \n",
      "112000  steps taken. Target network weights updated. \n",
      "Episode 990 finished after 200 timesteps. 100 ep running avg 161.0. Epsilon 0.01. Memory buffer length 50000.\n",
      "113000  steps taken. Target network weights updated. \n"
     ]
    }
   ],
   "source": [
    "# initialise environment, required objects, and some variables\n",
    "env = gym.make('CartPole-v0')\n",
    "\n",
    "q_network = build_model()\n",
    "target_network = build_model()\n",
    "memory_buffer = MemoryBuffer()\n",
    "\n",
    "epsilon = start_epsilon\n",
    "episode_lengths = []\n",
    "total_steps = 0\n",
    "\n",
    "# run through episodes\n",
    "for e in range(num_episodes):\n",
    "    observation = env.reset()\n",
    "    \n",
    "    for t in range(max_num_steps):\n",
    "        input = np.array([np.append(observation,0), np.append(observation,1)])\n",
    "        # todo: review distribution of inputs, and consider normalising\n",
    "        \n",
    "        # set the target network to be the q-network every so often\n",
    "        if total_steps % target_update_steps == 0:\n",
    "            target_network.set_weights(q_network.get_weights())\n",
    "            print(total_steps, ' steps taken. Target network weights updated. ')\n",
    "\n",
    "        # with probability epsilon, choose a random action\n",
    "        # otherwise use Q-network to pick action \n",
    "        if random.uniform(0, 1) < epsilon:\n",
    "            action = env.action_space.sample()\n",
    "        else:\n",
    "            action = np.argmax(q_network.predict(input))\n",
    "\n",
    "        next_observation, reward, done, info = env.step(action)\n",
    "        \n",
    "        # add memory to buffer\n",
    "        memory = (observation, action, reward, next_observation, done)\n",
    "        memory_buffer.add_memory(memory)\n",
    "        \n",
    "        # sample a minibatch of experiences and update q-network\n",
    "        minibatch_inputs, minibatch_q_values = memory_buffer.sample_minibatch(batch_size)\n",
    "        q_network.fit(np.array(minibatch_inputs), np.array(minibatch_q_values), verbose=0)\n",
    "        \n",
    "        observation = next_observation\n",
    "        total_steps += 1\n",
    "        if done or t == max_num_steps - 1:\n",
    "            break \n",
    "            \n",
    "    episode_lengths.append(t)\n",
    "    if e % 10 == 0:\n",
    "        print(\"Episode {} finished after {} timesteps. 100 ep running avg {}. Epsilon {}. Memory buffer length {}.\".format(e, t+1, np.floor(np.average(episode_lengths[-100:])), epsilon, len(memory_buffer.experience_buffer)))\n",
    "\n",
    "    # decrease epsilon value\n",
    "    epsilon = max(epsilon * epsilon_decay_rate, end_epsilon)\n"
   ]
  },
  {
   "cell_type": "code",
   "execution_count": 20,
   "metadata": {
    "colab": {
     "base_uri": "https://localhost:8080/",
     "height": 282
    },
    "colab_type": "code",
    "id": "wRdNiHgEKHSG",
    "outputId": "bfcb1d95-fcb1-4478-a0f1-dc7232ae72ce"
   },
   "outputs": [
    {
     "data": {
      "text/plain": [
       "Text(0.5, 1.0, 'No separate target net; 0.0025 lr')"
      ]
     },
     "execution_count": 20,
     "metadata": {},
     "output_type": "execute_result"
    },
    {
     "data": {
      "image/png": "[encoded data removed]",
      "text/plain": [
       "<Figure size 432x288 with 1 Axes>"
      ]
     },
     "metadata": {
      "needs_background": "light"
     },
     "output_type": "display_data"
    }
   ],
   "source": [
    "%matplotlib inline\n",
    "fig, ax = plt.subplots()\n",
    "plt.plot(episode_lengths,label='episode length')\n",
    "ax.set_xlabel('Episode')\n",
    "ax.set_ylabel('Episode timesteps')\n",
    "ax.set_title('No separate target net; 0.0025 lr')"
   ]
  },
  {
   "cell_type": "code",
   "execution_count": 28,
   "metadata": {},
   "outputs": [
    {
     "data": {
      "text/plain": [
       "Text(0.5, 1.0, 'Target net update frequency 10k; 0.0025 lr')"
      ]
     },
     "execution_count": 28,
     "metadata": {},
     "output_type": "execute_result"
    },
    {
     "data": {
      "image/png": "[encoded data removed]",
      "text/plain": [
       "<Figure size 432x288 with 1 Axes>"
      ]
     },
     "metadata": {
      "needs_background": "light"
     },
     "output_type": "display_data"
    }
   ],
   "source": [
    "%matplotlib inline\n",
    "fig1, ax1 = plt.subplots()\n",
    "plt.plot(episode_lengths,label='episode length')\n",
    "ax1.set_xlabel('Episode')\n",
    "ax1.set_ylabel('Episode timesteps')\n",
    "ax1.set_title('Target net update frequency 10k; 0.0025 lr')"
   ]
  }
 ],
 "metadata": {
  "colab": {
   "include_colab_link": true,
   "name": "Simple DQN on Cartpole",
   "provenance": [],
   "version": "0.3.2"
  },
  "kernelspec": {
   "display_name": "Python 3",
   "language": "python",
   "name": "python3"
  },
  "language_info": {
   "codemirror_mode": {
    "name": "ipython",
    "version": 3
   },
   "file_extension": ".py",
   "mimetype": "text/x-python",
   "name": "python",
   "nbconvert_exporter": "python",
   "pygments_lexer": "ipython3",
   "version": "3.6.6"
  }
 },
 "nbformat": 4,
 "nbformat_minor": 1
}

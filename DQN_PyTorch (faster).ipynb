{
 "cells": [
  {
   "cell_type": "markdown",
   "metadata": {},
   "source": [
    "## PyTorch DQN (faster)"
   ]
  },
  {
   "cell_type": "code",
   "execution_count": 2,
   "metadata": {
    "colab": {},
    "colab_type": "code",
    "id": "K4i7oDMqKHRk"
   },
   "outputs": [
    {
     "data": {
      "text/plain": [
       "[0]"
      ]
     },
     "execution_count": 2,
     "metadata": {},
     "output_type": "execute_result"
    }
   ],
   "source": [
    "from dqn import QNetwork\n",
    "from better_dqn_agent import DQNAgent\n",
    "from agent_trainer import Trainer\n",
    "from memory_buffer import MemoryBuffer\n",
    "import gym\n",
    "\n",
    "import matplotlib.pyplot as plt\n",
    "\n",
    "import torch\n",
    "torch.manual_seed(0)\n",
    "\n",
    "env = gym.make('CartPole-v0')\n",
    "env.seed(0)"
   ]
  },
  {
   "cell_type": "code",
   "execution_count": 3,
   "metadata": {},
   "outputs": [
    {
     "name": "stdout",
     "output_type": "stream",
     "text": [
      "Trainer initialised.\n"
     ]
    }
   ],
   "source": [
    "env = gym.make('CartPole-v0')\n",
    "env.seed(0)\n",
    "\n",
    "dqn_agent = DQNAgent(learning_rate=0.01, \n",
    "                     discount_rate=0.9,\n",
    "                     num_inputs=4,\n",
    "                     num_neurons=32,\n",
    "                     num_outputs=2\n",
    "                    )\n",
    "\n",
    "trainer = Trainer(\n",
    "    env=env, \n",
    "    agent=dqn_agent, \n",
    "    memory_buffer=MemoryBuffer(buffer_length=50000), \n",
    "    start_epsilon=1, \n",
    "    timestep_to_start_learning=1000,\n",
    "    batch_size=32,\n",
    "    target_update_steps=1000,\n",
    "    epsilon_decay_rate=0.99\n",
    ")"
   ]
  },
  {
   "cell_type": "code",
   "execution_count": 4,
   "metadata": {},
   "outputs": [
    {
     "name": "stdout",
     "output_type": "stream",
     "text": [
      "Target network updated. \n",
      "Episode 0 finished after 20 timesteps. 100 ep running avg 19.0. Epsilon 1.00. Buffer length: 20. Zero actions: 0.40\n",
      "Episode 10 finished after 16 timesteps. 100 ep running avg 20.0. Epsilon 0.90. Buffer length: 232. Zero actions: 0.69\n",
      "Episode 20 finished after 38 timesteps. 100 ep running avg 18.0. Epsilon 0.82. Buffer length: 402. Zero actions: 0.53\n",
      "Episode 30 finished after 16 timesteps. 100 ep running avg 18.0. Epsilon 0.74. Buffer length: 589. Zero actions: 0.69\n",
      "Episode 40 finished after 14 timesteps. 100 ep running avg 16.0. Epsilon 0.67. Buffer length: 735. Zero actions: 0.71\n",
      "Episode 50 finished after 19 timesteps. 100 ep running avg 16.0. Epsilon 0.61. Buffer length: 889. Zero actions: 0.58\n",
      "Target network updated. \n",
      "Episode 60 finished after 16 timesteps. 100 ep running avg 15.0. Epsilon 0.55. Buffer length: 1009. Zero actions: 0.69\n",
      "Episode 70 finished after 23 timesteps. 100 ep running avg 16.0. Epsilon 0.49. Buffer length: 1267. Zero actions: 0.52\n",
      "Episode 80 finished after 20 timesteps. 100 ep running avg 17.0. Epsilon 0.45. Buffer length: 1529. Zero actions: 0.50\n",
      "Episode 90 finished after 24 timesteps. 100 ep running avg 18.0. Epsilon 0.40. Buffer length: 1771. Zero actions: 0.50\n",
      "Target network updated. \n",
      "Episode 100 finished after 18 timesteps. 100 ep running avg 20.0. Epsilon 0.37. Buffer length: 2133. Zero actions: 0.50\n",
      "Episode 110 finished after 21 timesteps. 100 ep running avg 19.0. Epsilon 0.33. Buffer length: 2322. Zero actions: 0.52\n",
      "Episode 120 finished after 9 timesteps. 100 ep running avg 20.0. Epsilon 0.30. Buffer length: 2530. Zero actions: 0.67\n",
      "Episode 130 finished after 12 timesteps. 100 ep running avg 19.0. Epsilon 0.27. Buffer length: 2687. Zero actions: 0.25\n",
      "Episode 140 finished after 19 timesteps. 100 ep running avg 20.0. Epsilon 0.24. Buffer length: 2878. Zero actions: 0.26\n",
      "Target network updated. \n",
      "Episode 150 finished after 28 timesteps. 100 ep running avg 22.0. Epsilon 0.22. Buffer length: 3270. Zero actions: 0.32\n",
      "Episode 160 finished after 43 timesteps. 100 ep running avg 25.0. Epsilon 0.20. Buffer length: 3632. Zero actions: 0.51\n",
      "Target network updated. \n",
      "Episode 170 finished after 141 timesteps. 100 ep running avg 28.0. Epsilon 0.18. Buffer length: 4239. Zero actions: 0.50\n",
      "Episode 180 finished after 95 timesteps. 100 ep running avg 33.0. Epsilon 0.16. Buffer length: 4986. Zero actions: 0.52\n",
      "Target network updated. \n",
      "Episode 190 finished after 37 timesteps. 100 ep running avg 37.0. Epsilon 0.15. Buffer length: 5631. Zero actions: 0.46\n",
      "Target network updated. \n",
      "Episode 200 finished after 65 timesteps. 100 ep running avg 42.0. Epsilon 0.13. Buffer length: 6448. Zero actions: 0.62\n",
      "Target network updated. \n",
      "Episode 210 finished after 96 timesteps. 100 ep running avg 50.0. Epsilon 0.12. Buffer length: 7484. Zero actions: 0.48\n",
      "Target network updated. \n",
      "Episode 220 finished after 200 timesteps. 100 ep running avg 58.0. Epsilon 0.11. Buffer length: 8510. Zero actions: 0.49\n",
      "Target network updated. \n",
      "Target network updated. \n",
      "Episode 230 finished after 200 timesteps. 100 ep running avg 72.0. Epsilon 0.10. Buffer length: 10034. Zero actions: 0.53\n",
      "Target network updated. \n",
      "Episode 240 finished after 191 timesteps. 100 ep running avg 85.0. Epsilon 0.09. Buffer length: 11565. Zero actions: 0.52\n",
      "Target network updated. \n",
      "Target network updated. \n",
      "Episode 250 finished after 200 timesteps. 100 ep running avg 100.0. Epsilon 0.08. Buffer length: 13375. Zero actions: 0.51\n",
      "Target network updated. \n",
      "Target network updated. \n",
      "Episode 260 finished after 200 timesteps. 100 ep running avg 114.0. Epsilon 0.07. Buffer length: 15136. Zero actions: 0.49\n",
      "Target network updated. \n",
      "Episode 270 finished after 137 timesteps. 100 ep running avg 123.0. Epsilon 0.07. Buffer length: 16700. Zero actions: 0.46\n",
      "Target network updated. \n",
      "Episode 280 finished after 174 timesteps. 100 ep running avg 129.0. Epsilon 0.06. Buffer length: 17988. Zero actions: 0.48\n",
      "Target network updated. \n",
      "Target network updated. \n",
      "Episode 290 finished after 127 timesteps. 100 ep running avg 140.0. Epsilon 0.05. Buffer length: 19766. Zero actions: 0.48\n",
      "Target network updated. \n",
      "Target network updated. \n",
      "Episode 300 finished after 136 timesteps. 100 ep running avg 148.0. Epsilon 0.05. Buffer length: 21379. Zero actions: 0.45\n",
      "Target network updated. \n",
      "Target network updated. \n",
      "Episode 310 finished after 185 timesteps. 100 ep running avg 155.0. Epsilon 0.04. Buffer length: 23126. Zero actions: 0.50\n",
      "Target network updated. \n",
      "Target network updated. \n",
      "Episode 320 finished after 200 timesteps. 100 ep running avg 165.0. Epsilon 0.04. Buffer length: 25126. Zero actions: 0.53\n",
      "Target network updated. \n",
      "Episode 330 finished after 143 timesteps. 100 ep running avg 167.0. Epsilon 0.04. Buffer length: 26893. Zero actions: 0.50\n",
      "Target network updated. \n",
      "Target network updated. \n",
      "Episode 340 finished after 138 timesteps. 100 ep running avg 166.0. Epsilon 0.03. Buffer length: 28306. Zero actions: 0.50\n",
      "Target network updated. \n",
      "Episode 350 finished after 200 timesteps. 100 ep running avg 163.0. Epsilon 0.03. Buffer length: 29822. Zero actions: 0.53\n",
      "Target network updated. \n",
      "Target network updated. \n",
      "Episode 360 finished after 200 timesteps. 100 ep running avg 164.0. Epsilon 0.03. Buffer length: 31686. Zero actions: 0.49\n",
      "Target network updated. \n",
      "Target network updated. \n",
      "Episode 370 finished after 120 timesteps. 100 ep running avg 166.0. Epsilon 0.02. Buffer length: 33486. Zero actions: 0.45\n",
      "Target network updated. \n",
      "Episode 380 finished after 200 timesteps. 100 ep running avg 167.0. Epsilon 0.02. Buffer length: 34840. Zero actions: 0.48\n",
      "Target network updated. \n",
      "Target network updated. \n",
      "Episode 390 finished after 200 timesteps. 100 ep running avg 167.0. Epsilon 0.02. Buffer length: 36604. Zero actions: 0.48\n",
      "Target network updated. \n",
      "Target network updated. \n",
      "Episode 400 finished after 200 timesteps. 100 ep running avg 169.0. Epsilon 0.02. Buffer length: 38473. Zero actions: 0.49\n",
      "Target network updated. \n",
      "Target network updated. \n",
      "Episode 410 finished after 172 timesteps. 100 ep running avg 169.0. Epsilon 0.02. Buffer length: 40210. Zero actions: 0.54\n",
      "Target network updated. \n",
      "Episode 420 finished after 34 timesteps. 100 ep running avg 164.0. Epsilon 0.01. Buffer length: 41680. Zero actions: 0.47\n",
      "Target network updated. \n",
      "Episode 430 finished after 144 timesteps. 100 ep running avg 159.0. Epsilon 0.01. Buffer length: 42984. Zero actions: 0.49\n",
      "Target network updated. \n",
      "Episode 440 finished after 96 timesteps. 100 ep running avg 155.0. Epsilon 0.01. Buffer length: 43949. Zero actions: 0.42\n",
      "Target network updated. \n",
      "Target network updated. \n",
      "Episode 450 finished after 104 timesteps. 100 ep running avg 152.0. Epsilon 0.01. Buffer length: 45127. Zero actions: 0.45\n",
      "Target network updated. \n",
      "Episode 460 finished after 91 timesteps. 100 ep running avg 144.0. Epsilon 0.01. Buffer length: 46191. Zero actions: 0.40\n",
      "Target network updated. \n",
      "Episode 470 finished after 101 timesteps. 100 ep running avg 137.0. Epsilon 0.01. Buffer length: 47358. Zero actions: 0.48\n",
      "Target network updated. \n",
      "Episode 480 finished after 88 timesteps. 100 ep running avg 133.0. Epsilon 0.01. Buffer length: 48291. Zero actions: 0.43\n",
      "Target network updated. \n",
      "Episode 490 finished after 90 timesteps. 100 ep running avg 125.0. Epsilon 0.01. Buffer length: 49206. Zero actions: 0.42\n",
      "Target network updated. \n"
     ]
    }
   ],
   "source": [
    "trainer.run(num_episodes=500)"
   ]
  },
  {
   "cell_type": "code",
   "execution_count": 9,
   "metadata": {},
   "outputs": [
    {
     "name": "stdout",
     "output_type": "stream",
     "text": [
      "Episode 0 finished after 53 timesteps. 100 ep running avg 186.0. Epsilon 0.010860193639877886.\n",
      "Episode 10 finished after 200 timesteps. 100 ep running avg 186.0. Epsilon 0.01.\n",
      "Episode 20 finished after 200 timesteps. 100 ep running avg 187.0. Epsilon 0.01.\n",
      "Episode 30 finished after 200 timesteps. 100 ep running avg 186.0. Epsilon 0.01.\n",
      "Episode 40 finished after 200 timesteps. 100 ep running avg 187.0. Epsilon 0.01.\n",
      " "
     ]
    }
   ],
   "source": [
    "%prun trainer.run(num_episodes=50)"
   ]
  },
  {
   "cell_type": "code",
   "execution_count": 10,
   "metadata": {},
   "outputs": [],
   "source": [
    "%load_ext line_profiler"
   ]
  },
  {
   "cell_type": "code",
   "execution_count": 11,
   "metadata": {},
   "outputs": [
    {
     "name": "stdout",
     "output_type": "stream",
     "text": [
      "Episode 0 finished after 142 timesteps. 100 ep running avg 185.0. Epsilon 0.01.\n",
      "Episode 10 finished after 163 timesteps. 100 ep running avg 182.0. Epsilon 0.01.\n",
      "Episode 20 finished after 200 timesteps. 100 ep running avg 173.0. Epsilon 0.01.\n",
      "Episode 30 finished after 113 timesteps. 100 ep running avg 165.0. Epsilon 0.01.\n",
      "Episode 40 finished after 127 timesteps. 100 ep running avg 158.0. Epsilon 0.01.\n"
     ]
    }
   ],
   "source": [
    "%lprun -f DQNAgent.fit_batch trainer.run(num_episodes=50)"
   ]
  },
  {
   "cell_type": "code",
   "execution_count": 19,
   "metadata": {
    "scrolled": true
   },
   "outputs": [
    {
     "name": "stdout",
     "output_type": "stream",
     "text": [
      "Episode 0 finished after 18 timesteps. 100 ep running avg 17.0. Epsilon 1.\n",
      "Episode 10 finished after 15 timesteps. 100 ep running avg 18.0. Epsilon 0.9043820750088043.\n",
      "Episode 20 finished after 15 timesteps. 100 ep running avg 16.0. Epsilon 0.8179069375972307.\n",
      "Episode 30 finished after 16 timesteps. 100 ep running avg 15.0. Epsilon 0.7397003733882802.\n",
      "Episode 40 finished after 14 timesteps. 100 ep running avg 14.0. Epsilon 0.6689717585696803.\n",
      "Episode 50 finished after 14 timesteps. 100 ep running avg 14.0. Epsilon 0.6050060671375365.\n",
      "Episode 60 finished after 10 timesteps. 100 ep running avg 14.0. Epsilon 0.5471566423907612.\n",
      "Episode 70 finished after 10 timesteps. 100 ep running avg 13.0. Epsilon 0.49483865960020695.\n",
      "Episode 80 finished after 20 timesteps. 100 ep running avg 13.0. Epsilon 0.44752321376381066.\n",
      "Episode 90 finished after 13 timesteps. 100 ep running avg 13.0. Epsilon 0.4047319726783239.\n",
      "Episode 100 finished after 16 timesteps. 100 ep running avg 13.0. Epsilon 0.36603234127322926.\n",
      "Episode 110 finished after 9 timesteps. 100 ep running avg 13.0. Epsilon 0.33103308832101386.\n",
      "Episode 120 finished after 12 timesteps. 100 ep running avg 13.0. Epsilon 0.29938039131233124.\n",
      "Episode 130 finished after 9 timesteps. 100 ep running avg 14.0. Epsilon 0.270754259511994.\n",
      "Episode 140 finished after 10 timesteps. 100 ep running avg 13.0. Epsilon 0.24486529903492946.\n",
      "Episode 150 finished after 11 timesteps. 100 ep running avg 13.0. Epsilon 0.22145178723886094.\n",
      "Episode 160 finished after 10 timesteps. 100 ep running avg 13.0. Epsilon 0.20027702685748935.\n",
      "Episode 170 finished after 13 timesteps. 100 ep running avg 13.0. Epsilon 0.18112695312597027.\n",
      "Episode 180 finished after 33 timesteps. 100 ep running avg 14.0. Epsilon 0.16380796970808745.\n",
      "Episode 190 finished after 41 timesteps. 100 ep running avg 14.0. Epsilon 0.1481449915475795.\n",
      "Episode 200 finished after 9 timesteps. 100 ep running avg 15.0. Epsilon 0.13397967485796175.\n",
      "Episode 210 finished after 9 timesteps. 100 ep running avg 14.0. Epsilon 0.1211688163570484.\n",
      "Episode 220 finished after 10 timesteps. 100 ep running avg 13.0. Epsilon 0.10958290556334822.\n",
      "Episode 230 finished after 16 timesteps. 100 ep running avg 12.0. Epsilon 0.09910481551887473.\n",
      "Episode 240 finished after 23 timesteps. 100 ep running avg 12.0. Epsilon 0.08962861870232469.\n",
      "Episode 250 finished after 44 timesteps. 100 ep running avg 14.0. Epsilon 0.08105851616218133.\n",
      "Episode 260 finished after 10 timesteps. 100 ep running avg 16.0. Epsilon 0.07330786904388827.\n",
      "Episode 270 finished after 9 timesteps. 100 ep running avg 16.0. Epsilon 0.06629832272038537.\n",
      "Episode 280 finished after 38 timesteps. 100 ep running avg 16.0. Epsilon 0.05995901467146548.\n",
      "Episode 290 finished after 40 timesteps. 100 ep running avg 19.0. Epsilon 0.054225858104063294.\n",
      "Episode 300 finished after 59 timesteps. 100 ep running avg 20.0. Epsilon 0.04904089407128576.\n",
      "Episode 310 finished after 34 timesteps. 100 ep running avg 24.0. Epsilon 0.04435170554047638.\n",
      "Episode 320 finished after 51 timesteps. 100 ep running avg 29.0. Epsilon 0.04011088748687551.\n",
      "Episode 330 finished after 68 timesteps. 100 ep running avg 33.0. Epsilon 0.036275567655825146.\n",
      "Episode 340 finished after 46 timesteps. 100 ep running avg 37.0. Epsilon 0.03280697314869741.\n",
      "Episode 350 finished after 54 timesteps. 100 ep running avg 40.0. Epsilon 0.029670038450977095.\n",
      "Episode 360 finished after 44 timesteps. 100 ep running avg 43.0. Epsilon 0.026833050939885677.\n",
      "Episode 370 finished after 57 timesteps. 100 ep running avg 48.0. Epsilon 0.024267330287830756.\n",
      "Episode 380 finished after 50 timesteps. 100 ep running avg 50.0. Epsilon 0.02194693852063239.\n",
      "Episode 390 finished after 102 timesteps. 100 ep running avg 52.0. Epsilon 0.01984841779938018.\n",
      "Episode 400 finished after 183 timesteps. 100 ep running avg 63.0. Epsilon 0.017950553275045134.\n",
      "Episode 410 finished after 189 timesteps. 100 ep running avg 76.0. Epsilon 0.01623415861844141.\n",
      "Episode 420 finished after 200 timesteps. 100 ep running avg 86.0. Epsilon 0.014681882057368112.\n",
      "Episode 430 finished after 200 timesteps. 100 ep running avg 101.0. Epsilon 0.013278030960077106.\n",
      "Episode 440 finished after 200 timesteps. 100 ep running avg 115.0. Epsilon 0.01200841319170568.\n",
      "Episode 450 finished after 182 timesteps. 100 ep running avg 128.0. Epsilon 0.010860193639877886.\n",
      "Episode 460 finished after 193 timesteps. 100 ep running avg 142.0. Epsilon 0.01.\n",
      "Episode 470 finished after 174 timesteps. 100 ep running avg 154.0. Epsilon 0.01.\n",
      "Episode 480 finished after 172 timesteps. 100 ep running avg 167.0. Epsilon 0.01.\n",
      "Episode 490 finished after 194 timesteps. 100 ep running avg 177.0. Epsilon 0.01.\n",
      "Wall time: 5min\n"
     ]
    }
   ],
   "source": [
    "%time trainer.run(num_episodes=500)"
   ]
  },
  {
   "cell_type": "code",
   "execution_count": 5,
   "metadata": {},
   "outputs": [
    {
     "data": {
      "text/plain": [
       "(0, 500)"
      ]
     },
     "execution_count": 5,
     "metadata": {},
     "output_type": "execute_result"
    },
    {
     "data": {
      "image/png": "[encoded data removed]",
      "text/plain": [
       "<Figure size 432x288 with 1 Axes>"
      ]
     },
     "metadata": {
      "needs_background": "light"
     },
     "output_type": "display_data"
    }
   ],
   "source": [
    "%matplotlib inline\n",
    "fig, ax = plt.subplots()\n",
    "plt.plot(trainer.episode_lengths,label='episode length')\n",
    "ax.set_xlabel('Episode')\n",
    "ax.set_ylabel('Episode timesteps')\n",
    "ax.set_title(f'Double DQN; batch size {trainer.batch_size}')\n",
    "ax.set_ylim(0, trainer.max_num_steps)\n",
    "ax.set_xlim(0, len(trainer.episode_lengths))"
   ]
  },
  {
   "cell_type": "code",
   "execution_count": 12,
   "metadata": {},
   "outputs": [
    {
     "name": "stdout",
     "output_type": "stream",
     "text": [
      "Episode 0 finished after 63 timesteps. 100 ep running avg 16.0. Epsilon 0.20027702685748935.\n",
      "Episode 10 finished after 11 timesteps. 100 ep running avg 15.0. Epsilon 0.18112695312597027.\n",
      "Episode 20 finished after 9 timesteps. 100 ep running avg 15.0. Epsilon 0.16380796970808745.\n",
      " "
     ]
    }
   ],
   "source": [
    "%prun trainer.run(30)"
   ]
  }
 ],
 "metadata": {
  "colab": {
   "include_colab_link": true,
   "name": "Simple DQN on Cartpole",
   "provenance": [],
   "version": "0.3.2"
  },
  "kernelspec": {
   "display_name": "Python 3",
   "language": "python",
   "name": "python3"
  },
  "language_info": {
   "codemirror_mode": {
    "name": "ipython",
    "version": 3
   },
   "file_extension": ".py",
   "mimetype": "text/x-python",
   "name": "python",
   "nbconvert_exporter": "python",
   "pygments_lexer": "ipython3",
   "version": "3.6.8"
  }
 },
 "nbformat": 4,
 "nbformat_minor": 1
}
